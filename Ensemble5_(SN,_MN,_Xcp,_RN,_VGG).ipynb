{
  "nbformat": 4,
  "nbformat_minor": 0,
  "metadata": {
    "colab": {
      "provenance": [],
      "gpuType": "T4"
    },
    "kernelspec": {
      "name": "python3",
      "display_name": "Python 3"
    },
    "language_info": {
      "name": "python"
    },
    "accelerator": "GPU"
  },
  "cells": [
    {
      "cell_type": "code",
      "source": [
        "import pandas as pd\n",
        "import numpy as np\n",
        "import matplotlib.pyplot as plt\n",
        "import tensorflow as tf"
      ],
      "metadata": {
        "id": "2Km444v--cJL"
      },
      "execution_count": 1,
      "outputs": []
    },
    {
      "cell_type": "markdown",
      "source": [
        "# Import Data"
      ],
      "metadata": {
        "id": "3_KXXPAE-Zc0"
      }
    },
    {
      "cell_type": "markdown",
      "source": [
        "Mount Drive"
      ],
      "metadata": {
        "id": "JHUa9418-k_z"
      }
    },
    {
      "cell_type": "code",
      "execution_count": 2,
      "metadata": {
        "id": "2XIpzt8RjFzf",
        "colab": {
          "base_uri": "https://localhost:8080/"
        },
        "outputId": "09def9ba-afb5-4fd8-d363-9e1a50b2510e"
      },
      "outputs": [
        {
          "output_type": "stream",
          "name": "stdout",
          "text": [
            "Mounted at /content/drive\n"
          ]
        }
      ],
      "source": [
        "from google.colab import drive\n",
        "drive.mount('/content/drive')"
      ]
    },
    {
      "cell_type": "markdown",
      "source": [
        "Read File"
      ],
      "metadata": {
        "id": "qBHAc-ro-r0b"
      }
    },
    {
      "cell_type": "code",
      "source": [
        "# Specify the file path within your Google Drive\n",
        "file_path = '/content/drive/My Drive/Colab Notebooks/Skin Cancer Classification/hmnist_28_28_RGB.csv'  # Replace with your actual file path\n",
        "\n",
        "# Read the file using Pandas (assuming it's a CSV file)\n",
        "df = pd.read_csv(file_path)"
      ],
      "metadata": {
        "id": "G5dnI01C-mOn"
      },
      "execution_count": 3,
      "outputs": []
    },
    {
      "cell_type": "markdown",
      "source": [
        "# Data Preprocessing"
      ],
      "metadata": {
        "id": "eSJxkbT2DJ8K"
      }
    },
    {
      "cell_type": "markdown",
      "source": [
        "Take out the label"
      ],
      "metadata": {
        "id": "h6KedeqQAO_n"
      }
    },
    {
      "cell_type": "code",
      "source": [
        "y = df['label']\n",
        "x = df.drop(columns = ['label'])"
      ],
      "metadata": {
        "id": "uA05b7GX_CtB"
      },
      "execution_count": 4,
      "outputs": []
    },
    {
      "cell_type": "code",
      "source": [
        "print(x.shape)"
      ],
      "metadata": {
        "colab": {
          "base_uri": "https://localhost:8080/"
        },
        "id": "InnolUxmw8Rn",
        "outputId": "e6a191e7-9c9e-4cb1-cfe5-82468a64ca38"
      },
      "execution_count": 5,
      "outputs": [
        {
          "output_type": "stream",
          "name": "stdout",
          "text": [
            "(10015, 2352)\n"
          ]
        }
      ]
    },
    {
      "cell_type": "markdown",
      "source": [
        "Oversample to handle class imbalance"
      ],
      "metadata": {
        "id": "WvksA9nPMS4O"
      }
    },
    {
      "cell_type": "code",
      "source": [
        "#from imblearn.over_sampling import RandomOverSampler\n",
        "#oversample = RandomOverSampler()\n",
        "#x,y  = oversample.fit_resample(x,y)"
      ],
      "metadata": {
        "id": "psqelX2jMSDv"
      },
      "execution_count": 6,
      "outputs": []
    },
    {
      "cell_type": "markdown",
      "source": [
        "Specify Labels"
      ],
      "metadata": {
        "id": "FIYXeA0LBGzL"
      }
    },
    {
      "cell_type": "code",
      "source": [
        "print(y.nunique())"
      ],
      "metadata": {
        "colab": {
          "base_uri": "https://localhost:8080/"
        },
        "id": "t69USjLOAuGd",
        "outputId": "5c7348fa-3738-4789-c2de-fb180bb0b967"
      },
      "execution_count": 7,
      "outputs": [
        {
          "output_type": "stream",
          "name": "stdout",
          "text": [
            "7\n"
          ]
        }
      ]
    },
    {
      "cell_type": "code",
      "source": [
        "print(y.value_counts())\n",
        "#nv       6705 benign\n",
        "#mel      1113 malignant\n",
        "#bkl      1099 benign\n",
        "#bcc       514 malignant\n",
        "#akiec     327 malignant\n",
        "#vasc      142 benign\n",
        "#df        115 benign"
      ],
      "metadata": {
        "colab": {
          "base_uri": "https://localhost:8080/"
        },
        "id": "dAzC3jxqBK18",
        "outputId": "121202ec-1676-4669-c1a8-c250d0ac7858"
      },
      "execution_count": 8,
      "outputs": [
        {
          "output_type": "stream",
          "name": "stdout",
          "text": [
            "4    6705\n",
            "6    1113\n",
            "2    1099\n",
            "1     514\n",
            "0     327\n",
            "5     142\n",
            "3     115\n",
            "Name: label, dtype: int64\n"
          ]
        }
      ]
    },
    {
      "cell_type": "markdown",
      "source": [
        "Replace 4, 2, 5, 3 with benign (0), and rest with malignant (1)"
      ],
      "metadata": {
        "id": "qj0df9XuCPI_"
      }
    },
    {
      "cell_type": "code",
      "source": [
        "# Replace values 1, 6, 0 with 1\n",
        "y.replace({1: 1, 6: 1, 0: 1}, inplace=True)\n",
        "\n",
        "# Replace values 4, 2, 5, and 3 with 0\n",
        "y.replace({4: 0, 2: 0, 5: 0, 3: 0}, inplace=True)"
      ],
      "metadata": {
        "id": "loPwLmV6BYyV"
      },
      "execution_count": 9,
      "outputs": []
    },
    {
      "cell_type": "code",
      "source": [
        "print(y.value_counts())\n",
        "# benign 8061\n",
        "# malignant 1954"
      ],
      "metadata": {
        "colab": {
          "base_uri": "https://localhost:8080/"
        },
        "id": "Pgrj4P5oCrS9",
        "outputId": "0f072091-51de-48f4-a6f5-ac56bf317753"
      },
      "execution_count": 10,
      "outputs": [
        {
          "output_type": "stream",
          "name": "stdout",
          "text": [
            "0    8061\n",
            "1    1954\n",
            "Name: label, dtype: int64\n"
          ]
        }
      ]
    },
    {
      "cell_type": "markdown",
      "source": [
        "Oversampling"
      ],
      "metadata": {
        "id": "MHa3V62vwBp0"
      }
    },
    {
      "cell_type": "code",
      "source": [
        "from imblearn.over_sampling import RandomOverSampler\n",
        "oversample = RandomOverSampler()\n",
        "x,y  = oversample.fit_resample(x,y)"
      ],
      "metadata": {
        "id": "L8DsVGwxwBCq"
      },
      "execution_count": 11,
      "outputs": []
    },
    {
      "cell_type": "code",
      "source": [
        "print(y.value_counts())"
      ],
      "metadata": {
        "colab": {
          "base_uri": "https://localhost:8080/"
        },
        "id": "jX2c1jzvxhyB",
        "outputId": "7cbd95dc-880b-4e4e-c4c4-8e9fe9f61d8f"
      },
      "execution_count": 12,
      "outputs": [
        {
          "output_type": "stream",
          "name": "stdout",
          "text": [
            "0    8061\n",
            "1    8061\n",
            "Name: label, dtype: int64\n"
          ]
        }
      ]
    },
    {
      "cell_type": "markdown",
      "source": [
        "Reshape data"
      ],
      "metadata": {
        "id": "t5W8WNKNAeHp"
      }
    },
    {
      "cell_type": "code",
      "source": [
        "x = np.array(x).reshape(-1,28,28,3)\n",
        "print('Shape of X :',x.shape)"
      ],
      "metadata": {
        "colab": {
          "base_uri": "https://localhost:8080/"
        },
        "id": "dhcvAhRK__7O",
        "outputId": "9633fe9f-3a1b-470a-ee5b-7b95d5da47b7"
      },
      "execution_count": 13,
      "outputs": [
        {
          "output_type": "stream",
          "name": "stdout",
          "text": [
            "Shape of X : (16122, 28, 28, 3)\n"
          ]
        }
      ]
    },
    {
      "cell_type": "markdown",
      "source": [
        "Convert Shape"
      ],
      "metadata": {
        "id": "w4bkCdVNM6Yv"
      }
    },
    {
      "cell_type": "code",
      "source": [
        "from scipy.ndimage import zoom\n",
        "\n",
        "images = x\n",
        "\n",
        "# Define the desired size (224x224)\n",
        "desired_size = (72, 72)\n",
        "\n",
        "# Upscale the images using interpolation\n",
        "upscaled_images = np.zeros((images.shape[0],) + desired_size + (3,))\n",
        "for i in range(images.shape[0]):\n",
        "    for channel in range(3):\n",
        "        upscaled_images[i, :, :, channel] = zoom(images[i, :, :, channel],\n",
        "                                                 (desired_size[0] / images.shape[1], desired_size[1] / images.shape[2]))\n",
        "print(upscaled_images.shape)"
      ],
      "metadata": {
        "colab": {
          "base_uri": "https://localhost:8080/"
        },
        "id": "3e5k84zhvGWG",
        "outputId": "5e3159ba-44e3-4d4a-cefb-fee0048b8509"
      },
      "execution_count": 14,
      "outputs": [
        {
          "output_type": "stream",
          "name": "stdout",
          "text": [
            "(16122, 72, 72, 3)\n"
          ]
        }
      ]
    },
    {
      "cell_type": "code",
      "source": [
        "x = upscaled_images\n",
        "print(x.shape)"
      ],
      "metadata": {
        "colab": {
          "base_uri": "https://localhost:8080/"
        },
        "id": "X7aNlhEW3LnU",
        "outputId": "3576235f-8904-46b0-c781-2e68a059d005"
      },
      "execution_count": 15,
      "outputs": [
        {
          "output_type": "stream",
          "name": "stdout",
          "text": [
            "(16122, 72, 72, 3)\n"
          ]
        }
      ]
    },
    {
      "cell_type": "markdown",
      "source": [
        "Standardization"
      ],
      "metadata": {
        "id": "HPwV1vAP2-Ur"
      }
    },
    {
      "cell_type": "code",
      "source": [
        "x = (x-np.mean(x))/np.std(x)"
      ],
      "metadata": {
        "id": "tpJHth78292P"
      },
      "execution_count": 16,
      "outputs": []
    },
    {
      "cell_type": "markdown",
      "source": [
        "Train-Test Splitting"
      ],
      "metadata": {
        "id": "4g6SoZHSDWNh"
      }
    },
    {
      "cell_type": "code",
      "source": [
        "from sklearn.model_selection import train_test_split\n",
        "X_train, X_test, Y_train, Y_test = train_test_split(x,y, test_size=0.2, random_state=1)"
      ],
      "metadata": {
        "id": "DJlseov2CyPz"
      },
      "execution_count": 17,
      "outputs": []
    },
    {
      "cell_type": "code",
      "source": [
        "import matplotlib.pyplot as plt\n",
        "import numpy as np\n",
        "\n",
        "# Data\n",
        "labels = ['Benign', 'Malignant']\n",
        "train_data = [6446, 6451]\n",
        "test_data = [1610, 1615]\n",
        "\n",
        "# Create subplots\n",
        "fig, ax = plt.subplots()\n",
        "\n",
        "# Set the width of the bars\n",
        "width = 0.20\n",
        "\n",
        "# Calculate the x positions for the bars\n",
        "x_train = np.arange(len(labels))\n",
        "x_test = x_train + width\n",
        "\n",
        "# Create bars for training and testing data\n",
        "train_bars = ax.bar(x_train, train_data, width, label='Training Data')\n",
        "test_bars = ax.bar(x_test, test_data, width, label='Testing Data')\n",
        "\n",
        "# Add labels, title, and legend\n",
        "ax.set_xlabel('Classes')\n",
        "ax.set_ylabel('Number of Samples')\n",
        "ax.set_title('Distribution of Training and Testing Data')\n",
        "ax.set_xticks(x_train + width / 2)\n",
        "ax.set_xticklabels(labels)\n",
        "ax.legend(loc='upper center')\n",
        "\n",
        "# Display the chart\n",
        "plt.show()\n"
      ],
      "metadata": {
        "colab": {
          "base_uri": "https://localhost:8080/",
          "height": 472
        },
        "id": "fDK_DntwkLJ7",
        "outputId": "43e0dd15-1a56-4198-f665-3eb45f5edd2f"
      },
      "execution_count": 18,
      "outputs": [
        {
          "output_type": "display_data",
          "data": {
            "text/plain": [
              "<Figure size 640x480 with 1 Axes>"
            ],
            "image/png": "[encoded data removed]"
          },
          "metadata": {}
        }
      ]
    },
    {
      "cell_type": "code",
      "source": [
        "print(Y_train.value_counts())\n",
        "print(Y_test.value_counts())"
      ],
      "metadata": {
        "colab": {
          "base_uri": "https://localhost:8080/"
        },
        "id": "NBduuGBD-cjO",
        "outputId": "8e37277e-1d67-453a-e91a-0b6e1acae31f"
      },
      "execution_count": 19,
      "outputs": [
        {
          "output_type": "stream",
          "name": "stdout",
          "text": [
            "1    6451\n",
            "0    6446\n",
            "Name: label, dtype: int64\n",
            "0    1615\n",
            "1    1610\n",
            "Name: label, dtype: int64\n"
          ]
        }
      ]
    },
    {
      "cell_type": "markdown",
      "source": [
        "# Ensemble Model Training"
      ],
      "metadata": {
        "id": "mcBsxaW8_rpf"
      }
    },
    {
      "cell_type": "code",
      "source": [
        "import tensorflow as tf\n",
        "from keras.models import Model, load_model\n",
        "from keras.layers import Input, Average\n",
        "\n",
        "model_1 = load_model('/content/drive/My Drive/Colab Notebooks/Skin Cancer Classification/best_model_squeezenet.h5')\n",
        "model_1 = Model(inputs=model_1.inputs,\n",
        "                outputs=model_1.outputs,\n",
        "                name='squeezenet')\n",
        "\n",
        "model_2 = load_model('/content/drive/My Drive/Colab Notebooks/Skin Cancer Classification/best_model_vgg16.h5')\n",
        "model_2 = Model(inputs=model_2.inputs,\n",
        "                outputs=model_2.outputs,\n",
        "                name='vgg16')\n",
        "\n",
        "model_3 = load_model('/content/drive/My Drive/Colab Notebooks/Skin Cancer Classification/best_model_resnet50.h5')\n",
        "model_3 = Model(inputs=model_3.inputs,\n",
        "                outputs=model_3.outputs,\n",
        "                name='resnet50')\n",
        "\n",
        "model_4 = load_model('/content/drive/My Drive/Colab Notebooks/Skin Cancer Classification/best_model_xception.h5')\n",
        "model_4 = Model(inputs=model_4.inputs,\n",
        "                outputs=model_4.outputs,\n",
        "                name='xception')\n",
        "\n",
        "model_5 = load_model('/content/drive/My Drive/Colab Notebooks/Skin Cancer Classification/best_model_mobilenet.h5')\n",
        "model_5 = Model(inputs=model_5.inputs,\n",
        "                outputs=model_5.outputs,\n",
        "                name='mobilenet')\n"
      ],
      "metadata": {
        "id": "23PDnSAZ_td-"
      },
      "execution_count": 20,
      "outputs": []
    },
    {
      "cell_type": "markdown",
      "source": [
        "Average Ensemble"
      ],
      "metadata": {
        "id": "YIIQgYWlO-zy"
      }
    },
    {
      "cell_type": "code",
      "source": [
        "models = [model_1, model_2, model_3, model_4]\n",
        "\n",
        "model_input = Input(shape=(72, 72, 3))\n",
        "model_outputs = [model(model_input) for model in models]\n",
        "ensemble_output = Average()(model_outputs)\n",
        "ensemble_model = Model(inputs=model_input, outputs=ensemble_output, name='ensemble')"
      ],
      "metadata": {
        "id": "h-wTsiJkA5tc"
      },
      "execution_count": 21,
      "outputs": []
    },
    {
      "cell_type": "code",
      "source": [
        "ensemble_model.summary()"
      ],
      "metadata": {
        "colab": {
          "base_uri": "https://localhost:8080/"
        },
        "id": "nZshnGPoBDnF",
        "outputId": "ebf4bbb5-973b-4f0c-81e0-85f939d1bc15"
      },
      "execution_count": 22,
      "outputs": [
        {
          "output_type": "stream",
          "name": "stdout",
          "text": [
            "Model: \"ensemble\"\n",
            "__________________________________________________________________________________________________\n",
            " Layer (type)                Output Shape                 Param #   Connected to                  \n",
            "==================================================================================================\n",
            " input_1 (InputLayer)        [(None, 72, 72, 3)]          0         []                            \n",
            "                                                                                                  \n",
            " squeezenet (Functional)     (None, 1)                    735937    ['input_1[0][0]']             \n",
            "                                                                                                  \n",
            " vgg16 (Functional)          (None, 1)                    1485612   ['input_1[0][0]']             \n",
            "                                                          9                                       \n",
            "                                                                                                  \n",
            " resnet50 (Functional)       (None, 1)                    2372915   ['input_1[0][0]']             \n",
            "                                                          3                                       \n",
            "                                                                                                  \n",
            " xception (Functional)       (None, 1)                    2100292   ['input_1[0][0]']             \n",
            "                                                          1                                       \n",
            "                                                                                                  \n",
            " average (Average)           (None, 1)                    0         ['squeezenet[0][0]',          \n",
            "                                                                     'vgg16[0][0]',               \n",
            "                                                                     'resnet50[0][0]',            \n",
            "                                                                     'xception[0][0]']            \n",
            "                                                                                                  \n",
            "==================================================================================================\n",
            "Total params: 60324140 (230.12 MB)\n",
            "Trainable params: 1147972 (4.38 MB)\n",
            "Non-trainable params: 59176168 (225.74 MB)\n",
            "__________________________________________________________________________________________________\n"
          ]
        }
      ]
    },
    {
      "cell_type": "code",
      "source": [
        "ensemble_model.compile(\n",
        "    optimizer='adam',\n",
        "    loss= tf.keras.losses.binary_crossentropy,\n",
        "    metrics=['accuracy']\n",
        ")"
      ],
      "metadata": {
        "id": "qBPYbSfOBUCZ"
      },
      "execution_count": 23,
      "outputs": []
    },
    {
      "cell_type": "code",
      "source": [
        "callback = tf.keras.callbacks.ModelCheckpoint(filepath='best_ensemble_model.keras',\n",
        "                                              monitor='val_acc', mode='max',\n",
        "                                              verbose=1)"
      ],
      "metadata": {
        "id": "8WTeYLMnOtNj"
      },
      "execution_count": 24,
      "outputs": []
    },
    {
      "cell_type": "code",
      "source": [
        "history = ensemble_model.fit(X_train,\n",
        "                    Y_train,\n",
        "                    validation_split=0.2,\n",
        "                    batch_size = 128,\n",
        "                    epochs = 5,\n",
        "                    callbacks=[callback])"
      ],
      "metadata": {
        "colab": {
          "base_uri": "https://localhost:8080/"
        },
        "id": "bIuSoK-5BY_v",
        "outputId": "9a44a4bd-363e-4ab5-93bf-a77065eb8f47"
      },
      "execution_count": 25,
      "outputs": [
        {
          "output_type": "stream",
          "name": "stdout",
          "text": [
            "Epoch 1/5\n",
            "81/81 [==============================] - ETA: 0s - loss: 0.0263 - accuracy: 0.9987\n",
            "Epoch 1: saving model to best_ensemble_model.keras\n",
            "81/81 [==============================] - 79s 536ms/step - loss: 0.0263 - accuracy: 0.9987 - val_loss: 0.1700 - val_accuracy: 0.9329\n",
            "Epoch 2/5\n",
            "81/81 [==============================] - ETA: 0s - loss: 0.0182 - accuracy: 0.9996\n",
            "Epoch 2: saving model to best_ensemble_model.keras\n",
            "81/81 [==============================] - 40s 490ms/step - loss: 0.0182 - accuracy: 0.9996 - val_loss: 0.1442 - val_accuracy: 0.9488\n",
            "Epoch 3/5\n",
            "81/81 [==============================] - ETA: 0s - loss: 0.0216 - accuracy: 0.9993\n",
            "Epoch 3: saving model to best_ensemble_model.keras\n",
            "81/81 [==============================] - 41s 508ms/step - loss: 0.0216 - accuracy: 0.9993 - val_loss: 0.1563 - val_accuracy: 0.9415\n",
            "Epoch 4/5\n",
            "81/81 [==============================] - ETA: 0s - loss: 0.0435 - accuracy: 0.9990\n",
            "Epoch 4: saving model to best_ensemble_model.keras\n",
            "81/81 [==============================] - 41s 507ms/step - loss: 0.0435 - accuracy: 0.9990 - val_loss: 0.1801 - val_accuracy: 0.9322\n",
            "Epoch 5/5\n",
            "81/81 [==============================] - ETA: 0s - loss: 0.0490 - accuracy: 0.9988\n",
            "Epoch 5: saving model to best_ensemble_model.keras\n",
            "81/81 [==============================] - 45s 561ms/step - loss: 0.0490 - accuracy: 0.9988 - val_loss: 0.1776 - val_accuracy: 0.9403\n"
          ]
        }
      ]
    },
    {
      "cell_type": "markdown",
      "source": [
        "# Plot Model Progression"
      ],
      "metadata": {
        "id": "6hhqo3nF8flc"
      }
    },
    {
      "cell_type": "markdown",
      "source": [
        "Accuracy (training vs validation dataset)"
      ],
      "metadata": {
        "id": "YpwB6-Zr8rkF"
      }
    },
    {
      "cell_type": "code",
      "source": [
        "plt.plot(history.history['accuracy'])\n",
        "plt.plot(history.history['val_accuracy'])\n",
        "plt.title('Model Accuracy')\n",
        "plt.ylabel('Accuracy')\n",
        "plt.xlabel('Epoch')\n",
        "plt.legend(['train', 'val'], loc='upper left')\n",
        "plt.show()"
      ],
      "metadata": {
        "colab": {
          "base_uri": "https://localhost:8080/",
          "height": 472
        },
        "id": "t_ZBJeXV8buR",
        "outputId": "323bb10c-f75e-409c-ccfd-38ee5e41b0f3"
      },
      "execution_count": 26,
      "outputs": [
        {
          "output_type": "display_data",
          "data": {
            "text/plain": [
              "<Figure size 640x480 with 1 Axes>"
            ],
            "image/png": "[encoded data removed]"
          },
          "metadata": {}
        }
      ]
    },
    {
      "cell_type": "markdown",
      "source": [
        "Loss (training vs validation dataset)"
      ],
      "metadata": {
        "id": "fHEDxtRh8tqa"
      }
    },
    {
      "cell_type": "code",
      "source": [
        "plt.plot(history.history['loss'])\n",
        "plt.plot(history.history['val_loss'])\n",
        "plt.title('Model Loss')\n",
        "plt.ylabel('Loss')\n",
        "plt.xlabel('Epoch')\n",
        "plt.legend(['train', 'val'], loc='upper left')\n",
        "plt.show()"
      ],
      "metadata": {
        "colab": {
          "base_uri": "https://localhost:8080/",
          "height": 472
        },
        "id": "B-poqNmt8wKC",
        "outputId": "2d192f2f-b671-43c4-f0a9-6121126ce11e"
      },
      "execution_count": 27,
      "outputs": [
        {
          "output_type": "display_data",
          "data": {
            "text/plain": [
              "<Figure size 640x480 with 1 Axes>"
            ],
            "image/png": "[encoded data removed]"
          },
          "metadata": {}
        }
      ]
    },
    {
      "cell_type": "markdown",
      "source": [
        "Load best model weights"
      ],
      "metadata": {
        "id": "6HeRBcoj87e5"
      }
    },
    {
      "cell_type": "code",
      "source": [
        "#ensemble_model.load_weights('best_ensemble_model.keras')"
      ],
      "metadata": {
        "id": "dV58zg2v893I"
      },
      "execution_count": 28,
      "outputs": []
    },
    {
      "cell_type": "markdown",
      "source": [
        "Print model weights"
      ],
      "metadata": {
        "id": "5cxh1ZDK_pmP"
      }
    },
    {
      "cell_type": "code",
      "source": [
        "'''\n",
        "# Load your pre-trained model (replace 'model.h5' with your model's filename)\n",
        "best_model = tf.keras.models.load_model('best_ensemble_model.keras')\n",
        "# Define the path where you want to save the model\n",
        "model_save_path = '/content/drive/My Drive/Colab Notebooks/Skin Cancer Classification/'\n",
        "\n",
        "# Save the best model to Google Drive\n",
        "best_model.save(model_save_path + 'best_avg_ensemble_model.keras')\n",
        "# Get the list of all layers in the model\n",
        "all_layers = best_model.layers\n",
        "\n",
        "# Loop through the layers and print their weights if they have any\n",
        "for layer in all_layers:\n",
        "    if layer.weights:\n",
        "        print(f\"Layer: {layer.name}\")\n",
        "        for weight in layer.weights:\n",
        "            print(f\"  {weight.name}:\")\n",
        "            print(weight.numpy())\n",
        "            '''"
      ],
      "metadata": {
        "colab": {
          "base_uri": "https://localhost:8080/",
          "height": 122
        },
        "id": "ajQiLCVc_pC3",
        "outputId": "88d82104-2d5d-42a9-dafc-7c83a3949a9b"
      },
      "execution_count": 29,
      "outputs": [
        {
          "output_type": "execute_result",
          "data": {
            "text/plain": [
              "'\\n# Load your pre-trained model (replace \\'model.h5\\' with your model\\'s filename)\\nbest_model = tf.keras.models.load_model(\\'best_ensemble_model.keras\\')\\n# Define the path where you want to save the model\\nmodel_save_path = \\'/content/drive/My Drive/Colab Notebooks/Skin Cancer Classification/\\'\\n\\n# Save the best model to Google Drive\\nbest_model.save(model_save_path + \\'best_avg_ensemble_model.keras\\')\\n# Get the list of all layers in the model\\nall_layers = best_model.layers\\n\\n# Loop through the layers and print their weights if they have any\\nfor layer in all_layers:\\n    if layer.weights:\\n        print(f\"Layer: {layer.name}\")\\n        for weight in layer.weights:\\n            print(f\"  {weight.name}:\")\\n            print(weight.numpy())\\n            '"
            ],
            "application/vnd.google.colaboratory.intrinsic+json": {
              "type": "string"
            }
          },
          "metadata": {},
          "execution_count": 29
        }
      ]
    },
    {
      "cell_type": "markdown",
      "source": [
        "# Model Testing"
      ],
      "metadata": {
        "id": "RjTCI_nnDXrV"
      }
    },
    {
      "cell_type": "code",
      "source": [
        "#loss, acc = model.evaluate(X_test, Y_test, verbose=2)"
      ],
      "metadata": {
        "id": "RbldVK9nDaxb"
      },
      "execution_count": 30,
      "outputs": []
    },
    {
      "cell_type": "code",
      "source": [
        "import sklearn.metrics as metrics\n",
        "\n",
        "y_pred_ohe = ensemble_model.predict(X_test)\n",
        "#y_pred_labels = np.argmax(y_pred_ohe, axis=1)"
      ],
      "metadata": {
        "colab": {
          "base_uri": "https://localhost:8080/"
        },
        "id": "abpzQKNcDs5D",
        "outputId": "32bc85d0-2c36-4f8c-f0c0-1661706c1e4c"
      },
      "execution_count": 31,
      "outputs": [
        {
          "output_type": "stream",
          "name": "stdout",
          "text": [
            "101/101 [==============================] - 14s 80ms/step\n"
          ]
        }
      ]
    },
    {
      "cell_type": "code",
      "source": [
        "threshold = 0.7\n",
        "y_pred_labels = (y_pred_ohe >= threshold).astype(int)"
      ],
      "metadata": {
        "id": "qDjMGp9O_KfD"
      },
      "execution_count": 67,
      "outputs": []
    },
    {
      "cell_type": "code",
      "source": [
        "print(y_pred_labels)"
      ],
      "metadata": {
        "colab": {
          "base_uri": "https://localhost:8080/"
        },
        "id": "rA0I49CO_mhI",
        "outputId": "ebbc046e-2276-48d0-8f6a-065fcf7d7b27"
      },
      "execution_count": 68,
      "outputs": [
        {
          "output_type": "stream",
          "name": "stdout",
          "text": [
            "[[0]\n",
            " [0]\n",
            " [0]\n",
            " ...\n",
            " [0]\n",
            " [1]\n",
            " [0]]\n"
          ]
        }
      ]
    },
    {
      "cell_type": "code",
      "source": [
        "confusion_matrix = metrics.confusion_matrix(y_true=Y_test, y_pred=y_pred_labels)\n",
        "print(confusion_matrix)"
      ],
      "metadata": {
        "colab": {
          "base_uri": "https://localhost:8080/"
        },
        "id": "8mXzcJgQLc9d",
        "outputId": "5a06616f-c728-45ce-f507-0cf9080c950d"
      },
      "execution_count": 69,
      "outputs": [
        {
          "output_type": "stream",
          "name": "stdout",
          "text": [
            "[[1531   84]\n",
            " [  36 1574]]\n"
          ]
        }
      ]
    },
    {
      "cell_type": "code",
      "source": [
        "from sklearn.metrics import classification_report\n",
        "class_labels = ['benign', 'malignant']\n",
        "report = classification_report(Y_test, y_pred_labels, target_names = class_labels)\n",
        "print(report)"
      ],
      "metadata": {
        "colab": {
          "base_uri": "https://localhost:8080/"
        },
        "id": "tsYXqqv5LrAI",
        "outputId": "81c07c6e-f483-440b-947b-df4467429082"
      },
      "execution_count": 70,
      "outputs": [
        {
          "output_type": "stream",
          "name": "stdout",
          "text": [
            "              precision    recall  f1-score   support\n",
            "\n",
            "      benign       0.98      0.95      0.96      1615\n",
            "   malignant       0.95      0.98      0.96      1610\n",
            "\n",
            "    accuracy                           0.96      3225\n",
            "   macro avg       0.96      0.96      0.96      3225\n",
            "weighted avg       0.96      0.96      0.96      3225\n",
            "\n"
          ]
        }
      ]
    },
    {
      "cell_type": "code",
      "source": [
        "import seaborn as sns\n",
        "\n",
        "cm = confusion_matrix\n",
        "plt.figure(figsize=(8,8))\n",
        "sns.heatmap(cm, fmt='.0f', cmap=\"crest\", annot=True, linewidths=0.2)\n",
        "plt.title('Confusion matrix')\n",
        "plt.xlabel('Predicted value')\n",
        "plt.ylabel('Truth value')\n",
        "plt.show()\n",
        "#print(confusion_matrix(Y_test, y_pred_labels))"
      ],
      "metadata": {
        "colab": {
          "base_uri": "https://localhost:8080/",
          "height": 718
        },
        "id": "XY0lXAKQMYmb",
        "outputId": "0e4ab0c0-cb6c-4851-9e2d-f445e68135ce"
      },
      "execution_count": 71,
      "outputs": [
        {
          "output_type": "display_data",
          "data": {
            "text/plain": [
              "<Figure size 800x800 with 2 Axes>"
            ],
            "image/png": "[encoded data removed]"
          },
          "metadata": {}
        }
      ]
    },
    {
      "cell_type": "code",
      "source": [
        "import matplotlib.pyplot as plt\n",
        "from sklearn.metrics import confusion_matrix, accuracy_score, precision_score, recall_score, f1_score, roc_curve, auc\n",
        "\n",
        "\n",
        "# Calculate accuracy, precision, recall, and F1-score\n",
        "accuracy = accuracy_score(Y_test, y_pred_labels)\n",
        "precision = precision_score(Y_test, y_pred_labels)\n",
        "recall = recall_score(Y_test, y_pred_labels)\n",
        "f1 = f1_score(Y_test, y_pred_labels)\n",
        "\n",
        "print(f\"Accuracy: {accuracy:.2f}\")\n",
        "print(f\"Precision: {precision:.2f}\")\n",
        "print(f\"Recall: {recall:.2f}\")\n",
        "print(f\"F1-score: {f1:.2f}\")"
      ],
      "metadata": {
        "colab": {
          "base_uri": "https://localhost:8080/"
        },
        "id": "Pz7hRs_vPh9-",
        "outputId": "41c34a62-9d92-4ec0-e04b-7e4a9da1e5dc"
      },
      "execution_count": 72,
      "outputs": [
        {
          "output_type": "stream",
          "name": "stdout",
          "text": [
            "Accuracy: 0.96\n",
            "Precision: 0.95\n",
            "Recall: 0.98\n",
            "F1-score: 0.96\n"
          ]
        }
      ]
    },
    {
      "cell_type": "code",
      "source": [
        "# Plot ROC curve\n",
        "fpr, tpr, _ = roc_curve(Y_test, y_pred_labels)\n",
        "roc_auc = auc(fpr, tpr)\n",
        "\n",
        "plt.figure(figsize=(10, 6))\n",
        "plt.plot(fpr, tpr, color='darkorange', lw=2, label='ROC curve (area = {:.2f})'.format(roc_auc))\n",
        "plt.plot([0, 1], [0, 1], color='navy', lw=2, linestyle='--')\n",
        "plt.xlim([0.0, 1.0])\n",
        "plt.ylim([0.0, 1.05])\n",
        "plt.xlabel('False Positive Rate')\n",
        "plt.ylabel('True Positive Rate')\n",
        "plt.title('Receiver Operating Characteristic (ROC) Curve')\n",
        "plt.legend(loc='lower right')\n",
        "plt.show()"
      ],
      "metadata": {
        "colab": {
          "base_uri": "https://localhost:8080/",
          "height": 564
        },
        "id": "ky2BbcQOQrP8",
        "outputId": "53a161e5-41a6-4a83-ff38-cc8849fb0ef4"
      },
      "execution_count": 73,
      "outputs": [
        {
          "output_type": "display_data",
          "data": {
            "text/plain": [
              "<Figure size 1000x600 with 1 Axes>"
            ],
            "image/png": "[encoded data removed]"
          },
          "metadata": {}
        }
      ]
    },
    {
      "cell_type": "code",
      "source": [],
      "metadata": {
        "id": "oYhudJbEgWYD"
      },
      "execution_count": 73,
      "outputs": []
    }
  ]
}