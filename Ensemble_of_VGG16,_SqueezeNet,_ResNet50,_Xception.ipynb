{
  "nbformat": 4,
  "nbformat_minor": 0,
  "metadata": {
    "colab": {
      "provenance": [],
      "gpuType": "T4"
    },
    "kernelspec": {
      "name": "python3",
      "display_name": "Python 3"
    },
    "language_info": {
      "name": "python"
    },
    "accelerator": "GPU"
  },
  "cells": [
    {
      "cell_type": "code",
      "source": [
        "import pandas as pd\n",
        "import numpy as np\n",
        "import matplotlib.pyplot as plt\n",
        "import tensorflow as tf"
      ],
      "metadata": {
        "id": "2Km444v--cJL"
      },
      "execution_count": null,
      "outputs": []
    },
    {
      "cell_type": "markdown",
      "source": [
        "# Import Data"
      ],
      "metadata": {
        "id": "3_KXXPAE-Zc0"
      }
    },
    {
      "cell_type": "markdown",
      "source": [
        "Mount Drive"
      ],
      "metadata": {
        "id": "JHUa9418-k_z"
      }
    },
    {
      "cell_type": "code",
      "execution_count": null,
      "metadata": {
        "id": "2XIpzt8RjFzf",
        "colab": {
          "base_uri": "https://localhost:8080/"
        },
        "outputId": "d0708983-1752-4e7c-e1f4-d87dc072b244"
      },
      "outputs": [
        {
          "output_type": "stream",
          "name": "stdout",
          "text": [
            "Drive already mounted at /content/drive; to attempt to forcibly remount, call drive.mount(\"/content/drive\", force_remount=True).\n"
          ]
        }
      ],
      "source": [
        "from google.colab import drive\n",
        "drive.mount('/content/drive')"
      ]
    },
    {
      "cell_type": "markdown",
      "source": [
        "Read File"
      ],
      "metadata": {
        "id": "qBHAc-ro-r0b"
      }
    },
    {
      "cell_type": "code",
      "source": [
        "# Specify the file path within your Google Drive\n",
        "file_path = '/content/drive/My Drive/Colab Notebooks/Skin Cancer Classification/hmnist_28_28_RGB.csv'  # Replace with your actual file path\n",
        "\n",
        "# Read the file using Pandas (assuming it's a CSV file)\n",
        "df = pd.read_csv(file_path)"
      ],
      "metadata": {
        "id": "G5dnI01C-mOn"
      },
      "execution_count": null,
      "outputs": []
    },
    {
      "cell_type": "markdown",
      "source": [
        "# Data Preprocessing"
      ],
      "metadata": {
        "id": "eSJxkbT2DJ8K"
      }
    },
    {
      "cell_type": "markdown",
      "source": [
        "Take out the label"
      ],
      "metadata": {
        "id": "h6KedeqQAO_n"
      }
    },
    {
      "cell_type": "code",
      "source": [
        "y = df['label']\n",
        "x = df.drop(columns = ['label'])"
      ],
      "metadata": {
        "id": "uA05b7GX_CtB"
      },
      "execution_count": null,
      "outputs": []
    },
    {
      "cell_type": "code",
      "source": [
        "print(x.shape)"
      ],
      "metadata": {
        "colab": {
          "base_uri": "https://localhost:8080/"
        },
        "id": "InnolUxmw8Rn",
        "outputId": "bb2bcd85-854e-460b-9622-be48af1a0677"
      },
      "execution_count": null,
      "outputs": [
        {
          "output_type": "stream",
          "name": "stdout",
          "text": [
            "(10015, 2352)\n"
          ]
        }
      ]
    },
    {
      "cell_type": "markdown",
      "source": [
        "Oversample to handle class imbalance"
      ],
      "metadata": {
        "id": "WvksA9nPMS4O"
      }
    },
    {
      "cell_type": "code",
      "source": [
        "#from imblearn.over_sampling import RandomOverSampler\n",
        "#oversample = RandomOverSampler()\n",
        "#x,y  = oversample.fit_resample(x,y)"
      ],
      "metadata": {
        "id": "psqelX2jMSDv"
      },
      "execution_count": null,
      "outputs": []
    },
    {
      "cell_type": "markdown",
      "source": [
        "Specify Labels"
      ],
      "metadata": {
        "id": "FIYXeA0LBGzL"
      }
    },
    {
      "cell_type": "code",
      "source": [
        "print(y.nunique())"
      ],
      "metadata": {
        "colab": {
          "base_uri": "https://localhost:8080/"
        },
        "id": "t69USjLOAuGd",
        "outputId": "fc622de5-d438-4b8b-984d-fc6ba2dafd21"
      },
      "execution_count": null,
      "outputs": [
        {
          "output_type": "stream",
          "name": "stdout",
          "text": [
            "7\n"
          ]
        }
      ]
    },
    {
      "cell_type": "code",
      "source": [
        "print(y.value_counts())\n",
        "#nv       6705 benign\n",
        "#mel      1113 malignant\n",
        "#bkl      1099 benign\n",
        "#bcc       514 malignant\n",
        "#akiec     327 malignant\n",
        "#vasc      142 benign\n",
        "#df        115 benign"
      ],
      "metadata": {
        "colab": {
          "base_uri": "https://localhost:8080/"
        },
        "id": "dAzC3jxqBK18",
        "outputId": "43f8eab8-104f-4fc4-e9ac-817992511737"
      },
      "execution_count": null,
      "outputs": [
        {
          "output_type": "stream",
          "name": "stdout",
          "text": [
            "4    6705\n",
            "6    1113\n",
            "2    1099\n",
            "1     514\n",
            "0     327\n",
            "5     142\n",
            "3     115\n",
            "Name: label, dtype: int64\n"
          ]
        }
      ]
    },
    {
      "cell_type": "markdown",
      "source": [
        "Replace 4, 2, 5, 3 with benign (0), and rest with malignant (1)"
      ],
      "metadata": {
        "id": "qj0df9XuCPI_"
      }
    },
    {
      "cell_type": "code",
      "source": [
        "# Replace values 1, 6, 0 with 1\n",
        "y.replace({1: 1, 6: 1, 0: 1}, inplace=True)\n",
        "\n",
        "# Replace values 4, 2, 5, and 3 with 0\n",
        "y.replace({4: 0, 2: 0, 5: 0, 3: 0}, inplace=True)"
      ],
      "metadata": {
        "id": "loPwLmV6BYyV"
      },
      "execution_count": null,
      "outputs": []
    },
    {
      "cell_type": "code",
      "source": [
        "print(y.value_counts())\n",
        "# benign 8061\n",
        "# malignant 1954"
      ],
      "metadata": {
        "colab": {
          "base_uri": "https://localhost:8080/"
        },
        "id": "Pgrj4P5oCrS9",
        "outputId": "bf912173-8f89-4284-ba91-91b01064eeff"
      },
      "execution_count": null,
      "outputs": [
        {
          "output_type": "stream",
          "name": "stdout",
          "text": [
            "0    8061\n",
            "1    1954\n",
            "Name: label, dtype: int64\n"
          ]
        }
      ]
    },
    {
      "cell_type": "markdown",
      "source": [
        "Oversampling"
      ],
      "metadata": {
        "id": "MHa3V62vwBp0"
      }
    },
    {
      "cell_type": "code",
      "source": [
        "from imblearn.over_sampling import RandomOverSampler\n",
        "oversample = RandomOverSampler()\n",
        "x,y  = oversample.fit_resample(x,y)"
      ],
      "metadata": {
        "id": "L8DsVGwxwBCq"
      },
      "execution_count": null,
      "outputs": []
    },
    {
      "cell_type": "code",
      "source": [
        "print(y.value_counts())"
      ],
      "metadata": {
        "colab": {
          "base_uri": "https://localhost:8080/"
        },
        "id": "jX2c1jzvxhyB",
        "outputId": "51aba8e7-04ed-48e3-a673-1b959197956f"
      },
      "execution_count": null,
      "outputs": [
        {
          "output_type": "stream",
          "name": "stdout",
          "text": [
            "0    8061\n",
            "1    8061\n",
            "Name: label, dtype: int64\n"
          ]
        }
      ]
    },
    {
      "cell_type": "markdown",
      "source": [
        "Reshape data"
      ],
      "metadata": {
        "id": "t5W8WNKNAeHp"
      }
    },
    {
      "cell_type": "code",
      "source": [
        "x = np.array(x).reshape(-1,28,28,3)\n",
        "print('Shape of X :',x.shape)"
      ],
      "metadata": {
        "colab": {
          "base_uri": "https://localhost:8080/"
        },
        "id": "dhcvAhRK__7O",
        "outputId": "b7a048c1-bf4d-4255-de33-438979ba7cde"
      },
      "execution_count": null,
      "outputs": [
        {
          "output_type": "stream",
          "name": "stdout",
          "text": [
            "Shape of X : (16122, 28, 28, 3)\n"
          ]
        }
      ]
    },
    {
      "cell_type": "markdown",
      "source": [
        "Convert Shape"
      ],
      "metadata": {
        "id": "w4bkCdVNM6Yv"
      }
    },
    {
      "cell_type": "code",
      "source": [
        "from scipy.ndimage import zoom\n",
        "\n",
        "images = x\n",
        "\n",
        "# Define the desired size (224x224)\n",
        "desired_size = (72, 72)\n",
        "\n",
        "# Upscale the images using interpolation\n",
        "upscaled_images = np.zeros((images.shape[0],) + desired_size + (3,))\n",
        "for i in range(images.shape[0]):\n",
        "    for channel in range(3):\n",
        "        upscaled_images[i, :, :, channel] = zoom(images[i, :, :, channel],\n",
        "                                                 (desired_size[0] / images.shape[1], desired_size[1] / images.shape[2]))\n",
        "print(upscaled_images.shape)"
      ],
      "metadata": {
        "colab": {
          "base_uri": "https://localhost:8080/"
        },
        "id": "3e5k84zhvGWG",
        "outputId": "b71f4406-3dff-4ebb-85ee-544cfccb342e"
      },
      "execution_count": null,
      "outputs": [
        {
          "output_type": "stream",
          "name": "stdout",
          "text": [
            "(16122, 72, 72, 3)\n"
          ]
        }
      ]
    },
    {
      "cell_type": "code",
      "source": [
        "x = upscaled_images\n",
        "print(x.shape)"
      ],
      "metadata": {
        "colab": {
          "base_uri": "https://localhost:8080/"
        },
        "id": "X7aNlhEW3LnU",
        "outputId": "d54714fb-f632-474c-8d18-2b741e953909"
      },
      "execution_count": null,
      "outputs": [
        {
          "output_type": "stream",
          "name": "stdout",
          "text": [
            "(16122, 72, 72, 3)\n"
          ]
        }
      ]
    },
    {
      "cell_type": "markdown",
      "source": [
        "Standardization"
      ],
      "metadata": {
        "id": "HPwV1vAP2-Ur"
      }
    },
    {
      "cell_type": "code",
      "source": [
        "x = (x-np.mean(x))/np.std(x)"
      ],
      "metadata": {
        "id": "tpJHth78292P"
      },
      "execution_count": null,
      "outputs": []
    },
    {
      "cell_type": "markdown",
      "source": [
        "Train-Test Splitting"
      ],
      "metadata": {
        "id": "4g6SoZHSDWNh"
      }
    },
    {
      "cell_type": "code",
      "source": [
        "from sklearn.model_selection import train_test_split\n",
        "X_train, X_test, Y_train, Y_test = train_test_split(x,y, test_size=0.2, random_state=1)"
      ],
      "metadata": {
        "id": "DJlseov2CyPz"
      },
      "execution_count": null,
      "outputs": []
    },
    {
      "cell_type": "code",
      "source": [
        "print(Y_train.value_counts())\n",
        "print(Y_test.value_counts())"
      ],
      "metadata": {
        "colab": {
          "base_uri": "https://localhost:8080/"
        },
        "id": "NBduuGBD-cjO",
        "outputId": "4b0d2159-83ec-46e1-eb03-cb96a077a8c8"
      },
      "execution_count": null,
      "outputs": [
        {
          "output_type": "stream",
          "name": "stdout",
          "text": [
            "1    6451\n",
            "0    6446\n",
            "Name: label, dtype: int64\n",
            "0    1615\n",
            "1    1610\n",
            "Name: label, dtype: int64\n"
          ]
        }
      ]
    },
    {
      "cell_type": "markdown",
      "source": [
        "# Ensemble Model Training"
      ],
      "metadata": {
        "id": "mcBsxaW8_rpf"
      }
    },
    {
      "cell_type": "code",
      "source": [
        "import tensorflow as tf\n",
        "from keras.models import Model, load_model\n",
        "from keras.layers import Input, Average\n",
        "\n",
        "model_1 = load_model('/content/drive/My Drive/Colab Notebooks/Skin Cancer Classification/best_model_vgg16.h5')\n",
        "model_1 = Model(inputs=model_1.inputs,\n",
        "                outputs=model_1.outputs,\n",
        "                name='vgg16')\n",
        "\n",
        "model_2 = load_model('/content/drive/My Drive/Colab Notebooks/Skin Cancer Classification/best_model_squeezenet.h5')\n",
        "model_2 = Model(inputs=model_2.inputs,\n",
        "                outputs=model_2.outputs,\n",
        "                name='squeezenet')\n",
        "\n",
        "model_3 = load_model('/content/drive/My Drive/Colab Notebooks/Skin Cancer Classification/best_model_resnet50.h5')\n",
        "model_3 = Model(inputs=model_3.inputs,\n",
        "                outputs=model_3.outputs,\n",
        "                name='resnet50')\n",
        "\n",
        "model_4 = load_model('/content/drive/My Drive/Colab Notebooks/Skin Cancer Classification/best_model_xception.h5')\n",
        "model_4 = Model(inputs=model_4.inputs,\n",
        "                outputs=model_4.outputs,\n",
        "                name='xception')\n",
        "\n",
        "\n"
      ],
      "metadata": {
        "id": "23PDnSAZ_td-"
      },
      "execution_count": null,
      "outputs": []
    },
    {
      "cell_type": "markdown",
      "source": [
        "Average Ensemble"
      ],
      "metadata": {
        "id": "YIIQgYWlO-zy"
      }
    },
    {
      "cell_type": "code",
      "source": [
        "models = [model_1, model_2, model_3, model_4]\n",
        "\n",
        "model_input = Input(shape=(72, 72, 3))\n",
        "model_outputs = [model(model_input) for model in models]\n",
        "ensemble_output = Average()(model_outputs)\n",
        "ensemble_model = Model(inputs=model_input, outputs=ensemble_output, name='ensemble')"
      ],
      "metadata": {
        "id": "h-wTsiJkA5tc"
      },
      "execution_count": null,
      "outputs": []
    },
    {
      "cell_type": "code",
      "source": [
        "ensemble_model.summary()"
      ],
      "metadata": {
        "colab": {
          "base_uri": "https://localhost:8080/"
        },
        "id": "nZshnGPoBDnF",
        "outputId": "1cc1069a-8598-40e5-e741-63b5c3ab2cc1"
      },
      "execution_count": null,
      "outputs": [
        {
          "output_type": "stream",
          "name": "stdout",
          "text": [
            "Model: \"ensemble\"\n",
            "__________________________________________________________________________________________________\n",
            " Layer (type)                Output Shape                 Param #   Connected to                  \n",
            "==================================================================================================\n",
            " input_1 (InputLayer)        [(None, 72, 72, 3)]          0         []                            \n",
            "                                                                                                  \n",
            " vgg16 (Functional)          (None, 1)                    1485612   ['input_1[0][0]']             \n",
            "                                                          9                                       \n",
            "                                                                                                  \n",
            " squeezenet (Functional)     (None, 1)                    735937    ['input_1[0][0]']             \n",
            "                                                                                                  \n",
            " resnet50 (Functional)       (None, 1)                    2372915   ['input_1[0][0]']             \n",
            "                                                          3                                       \n",
            "                                                                                                  \n",
            " xception (Functional)       (None, 1)                    2100292   ['input_1[0][0]']             \n",
            "                                                          1                                       \n",
            "                                                                                                  \n",
            " average (Average)           (None, 1)                    0         ['vgg16[0][0]',               \n",
            "                                                                     'squeezenet[0][0]',          \n",
            "                                                                     'resnet50[0][0]',            \n",
            "                                                                     'xception[0][0]']            \n",
            "                                                                                                  \n",
            "==================================================================================================\n",
            "Total params: 60324140 (230.12 MB)\n",
            "Trainable params: 1147972 (4.38 MB)\n",
            "Non-trainable params: 59176168 (225.74 MB)\n",
            "__________________________________________________________________________________________________\n"
          ]
        }
      ]
    },
    {
      "cell_type": "code",
      "source": [
        "ensemble_model.compile(\n",
        "    optimizer='adam',\n",
        "    loss= tf.keras.losses.binary_crossentropy,\n",
        "    metrics=['accuracy']\n",
        ")"
      ],
      "metadata": {
        "id": "qBPYbSfOBUCZ"
      },
      "execution_count": null,
      "outputs": []
    },
    {
      "cell_type": "code",
      "source": [
        "callback = tf.keras.callbacks.ModelCheckpoint(filepath='best_ensemble_model.keras',\n",
        "                                              monitor='val_acc', mode='max',\n",
        "                                              verbose=1)"
      ],
      "metadata": {
        "id": "8WTeYLMnOtNj"
      },
      "execution_count": null,
      "outputs": []
    },
    {
      "cell_type": "code",
      "source": [
        "history = ensemble_model.fit(X_train,\n",
        "                    Y_train,\n",
        "                    validation_split=0.2,\n",
        "                    batch_size = 128,\n",
        "                    epochs = 30,\n",
        "                    callbacks=[callback])"
      ],
      "metadata": {
        "colab": {
          "base_uri": "https://localhost:8080/"
        },
        "id": "bIuSoK-5BY_v",
        "outputId": "53e7cc23-8fde-4405-a81a-9291c8a5d3d9"
      },
      "execution_count": null,
      "outputs": [
        {
          "output_type": "stream",
          "name": "stdout",
          "text": [
            "Epoch 1/30\n",
            "81/81 [==============================] - ETA: 0s - loss: 0.0266 - accuracy: 0.9986\n",
            "Epoch 1: saving model to best_ensemble_model.keras\n",
            "81/81 [==============================] - 86s 722ms/step - loss: 0.0266 - accuracy: 0.9986 - val_loss: 0.1366 - val_accuracy: 0.9488\n",
            "Epoch 2/30\n",
            "81/81 [==============================] - ETA: 0s - loss: 0.0217 - accuracy: 0.9990\n",
            "Epoch 2: saving model to best_ensemble_model.keras\n",
            "81/81 [==============================] - 53s 658ms/step - loss: 0.0217 - accuracy: 0.9990 - val_loss: 0.1561 - val_accuracy: 0.9384\n",
            "Epoch 3/30\n",
            "81/81 [==============================] - ETA: 0s - loss: 0.0242 - accuracy: 0.9991\n",
            "Epoch 3: saving model to best_ensemble_model.keras\n",
            "81/81 [==============================] - 44s 546ms/step - loss: 0.0242 - accuracy: 0.9991 - val_loss: 0.1679 - val_accuracy: 0.9260\n",
            "Epoch 4/30\n",
            "81/81 [==============================] - ETA: 0s - loss: 0.0340 - accuracy: 0.9991\n",
            "Epoch 4: saving model to best_ensemble_model.keras\n",
            "81/81 [==============================] - 56s 702ms/step - loss: 0.0340 - accuracy: 0.9991 - val_loss: 0.1691 - val_accuracy: 0.9391\n",
            "Epoch 5/30\n",
            "81/81 [==============================] - ETA: 0s - loss: 0.0327 - accuracy: 0.9989\n",
            "Epoch 5: saving model to best_ensemble_model.keras\n",
            "81/81 [==============================] - 59s 732ms/step - loss: 0.0327 - accuracy: 0.9989 - val_loss: 0.1548 - val_accuracy: 0.9318\n",
            "Epoch 6/30\n",
            "81/81 [==============================] - ETA: 0s - loss: 0.0257 - accuracy: 0.9994\n",
            "Epoch 6: saving model to best_ensemble_model.keras\n",
            "81/81 [==============================] - 62s 768ms/step - loss: 0.0257 - accuracy: 0.9994 - val_loss: 0.1556 - val_accuracy: 0.9442\n",
            "Epoch 7/30\n",
            "81/81 [==============================] - ETA: 0s - loss: 0.0259 - accuracy: 0.9995\n",
            "Epoch 7: saving model to best_ensemble_model.keras\n",
            "81/81 [==============================] - 63s 782ms/step - loss: 0.0259 - accuracy: 0.9995 - val_loss: 0.1477 - val_accuracy: 0.9450\n",
            "Epoch 8/30\n",
            "81/81 [==============================] - ETA: 0s - loss: 0.0413 - accuracy: 0.9991\n",
            "Epoch 8: saving model to best_ensemble_model.keras\n",
            "81/81 [==============================] - 76s 941ms/step - loss: 0.0413 - accuracy: 0.9991 - val_loss: 0.1470 - val_accuracy: 0.9461\n",
            "Epoch 9/30\n",
            "81/81 [==============================] - ETA: 0s - loss: 0.0266 - accuracy: 0.9991\n",
            "Epoch 9: saving model to best_ensemble_model.keras\n",
            "81/81 [==============================] - 83s 1s/step - loss: 0.0266 - accuracy: 0.9991 - val_loss: 0.1620 - val_accuracy: 0.9419\n",
            "Epoch 10/30\n",
            "81/81 [==============================] - ETA: 0s - loss: 0.0256 - accuracy: 0.9992\n",
            "Epoch 10: saving model to best_ensemble_model.keras\n",
            "81/81 [==============================] - 91s 1s/step - loss: 0.0256 - accuracy: 0.9992 - val_loss: 0.1467 - val_accuracy: 0.9481\n",
            "Epoch 11/30\n",
            "81/81 [==============================] - ETA: 0s - loss: 0.0252 - accuracy: 0.9993\n",
            "Epoch 11: saving model to best_ensemble_model.keras\n",
            "81/81 [==============================] - 96s 1s/step - loss: 0.0252 - accuracy: 0.9993 - val_loss: 0.1417 - val_accuracy: 0.9512\n",
            "Epoch 12/30\n",
            "81/81 [==============================] - ETA: 0s - loss: 0.0262 - accuracy: 0.9995\n",
            "Epoch 12: saving model to best_ensemble_model.keras\n",
            "81/81 [==============================] - 97s 1s/step - loss: 0.0262 - accuracy: 0.9995 - val_loss: 0.1804 - val_accuracy: 0.9380\n",
            "Epoch 13/30\n",
            "81/81 [==============================] - ETA: 0s - loss: 0.0292 - accuracy: 0.9992\n",
            "Epoch 13: saving model to best_ensemble_model.keras\n",
            "81/81 [==============================] - 115s 1s/step - loss: 0.0292 - accuracy: 0.9992 - val_loss: 0.1748 - val_accuracy: 0.9403\n",
            "Epoch 14/30\n",
            "81/81 [==============================] - ETA: 0s - loss: 0.0346 - accuracy: 0.9996\n",
            "Epoch 14: saving model to best_ensemble_model.keras\n",
            "81/81 [==============================] - 126s 2s/step - loss: 0.0346 - accuracy: 0.9996 - val_loss: 0.1598 - val_accuracy: 0.9605\n",
            "Epoch 15/30\n",
            "81/81 [==============================] - ETA: 0s - loss: 0.0575 - accuracy: 0.9994\n",
            "Epoch 15: saving model to best_ensemble_model.keras\n",
            "81/81 [==============================] - 140s 2s/step - loss: 0.0575 - accuracy: 0.9994 - val_loss: 0.1752 - val_accuracy: 0.9411\n",
            "Epoch 16/30\n",
            "81/81 [==============================] - ETA: 0s - loss: 0.0478 - accuracy: 0.9993\n",
            "Epoch 16: saving model to best_ensemble_model.keras\n",
            "81/81 [==============================] - 111s 1s/step - loss: 0.0478 - accuracy: 0.9993 - val_loss: 0.1784 - val_accuracy: 0.9399\n",
            "Epoch 17/30\n",
            "81/81 [==============================] - ETA: 0s - loss: 0.0354 - accuracy: 0.9994\n",
            "Epoch 17: saving model to best_ensemble_model.keras\n",
            "81/81 [==============================] - 144s 2s/step - loss: 0.0354 - accuracy: 0.9994 - val_loss: 0.1873 - val_accuracy: 0.9333\n",
            "Epoch 18/30\n",
            "81/81 [==============================] - ETA: 0s - loss: 0.0278 - accuracy: 0.9995\n",
            "Epoch 18: saving model to best_ensemble_model.keras\n",
            "81/81 [==============================] - 169s 2s/step - loss: 0.0278 - accuracy: 0.9995 - val_loss: 0.1646 - val_accuracy: 0.9419\n",
            "Epoch 19/30\n",
            "81/81 [==============================] - ETA: 0s - loss: 0.0253 - accuracy: 0.9996\n",
            "Epoch 19: saving model to best_ensemble_model.keras\n",
            "81/81 [==============================] - 202s 3s/step - loss: 0.0253 - accuracy: 0.9996 - val_loss: 0.1745 - val_accuracy: 0.9395\n",
            "Epoch 20/30\n",
            "81/81 [==============================] - ETA: 0s - loss: 0.0366 - accuracy: 0.9991\n",
            "Epoch 20: saving model to best_ensemble_model.keras\n",
            "81/81 [==============================] - 256s 3s/step - loss: 0.0366 - accuracy: 0.9991 - val_loss: 0.1544 - val_accuracy: 0.9442\n",
            "Epoch 21/30\n",
            "81/81 [==============================] - ETA: 0s - loss: 0.0393 - accuracy: 0.9994\n",
            "Epoch 21: saving model to best_ensemble_model.keras\n",
            "81/81 [==============================] - 113s 1s/step - loss: 0.0393 - accuracy: 0.9994 - val_loss: 0.1787 - val_accuracy: 0.9364\n",
            "Epoch 22/30\n",
            "81/81 [==============================] - ETA: 0s - loss: 0.0441 - accuracy: 0.9990\n",
            "Epoch 22: saving model to best_ensemble_model.keras\n",
            "81/81 [==============================] - 115s 1s/step - loss: 0.0441 - accuracy: 0.9990 - val_loss: 0.1622 - val_accuracy: 0.9492\n",
            "Epoch 23/30\n",
            "81/81 [==============================] - ETA: 0s - loss: 0.0532 - accuracy: 0.9990\n",
            "Epoch 23: saving model to best_ensemble_model.keras\n",
            "81/81 [==============================] - 131s 2s/step - loss: 0.0532 - accuracy: 0.9990 - val_loss: 0.2161 - val_accuracy: 0.9186\n",
            "Epoch 24/30\n",
            "81/81 [==============================] - ETA: 0s - loss: 0.0540 - accuracy: 0.9989\n",
            "Epoch 24: saving model to best_ensemble_model.keras\n",
            "81/81 [==============================] - 94s 1s/step - loss: 0.0540 - accuracy: 0.9989 - val_loss: 0.1711 - val_accuracy: 0.9446\n",
            "Epoch 25/30\n",
            "81/81 [==============================] - ETA: 0s - loss: 0.0446 - accuracy: 0.9995\n",
            "Epoch 25: saving model to best_ensemble_model.keras\n",
            "81/81 [==============================] - 231s 3s/step - loss: 0.0446 - accuracy: 0.9995 - val_loss: 0.1817 - val_accuracy: 0.9391\n",
            "Epoch 26/30\n",
            "81/81 [==============================] - ETA: 0s - loss: 0.0441 - accuracy: 0.9994\n",
            "Epoch 26: saving model to best_ensemble_model.keras\n",
            "81/81 [==============================] - 170s 2s/step - loss: 0.0441 - accuracy: 0.9994 - val_loss: 0.1691 - val_accuracy: 0.9422\n",
            "Epoch 27/30\n",
            "81/81 [==============================] - ETA: 0s - loss: 0.0514 - accuracy: 0.9992\n",
            "Epoch 27: saving model to best_ensemble_model.keras\n",
            "81/81 [==============================] - 167s 2s/step - loss: 0.0514 - accuracy: 0.9992 - val_loss: 0.2071 - val_accuracy: 0.9186\n",
            "Epoch 28/30\n",
            "81/81 [==============================] - ETA: 0s - loss: 0.0484 - accuracy: 0.9993\n",
            "Epoch 28: saving model to best_ensemble_model.keras\n",
            "81/81 [==============================] - 100s 1s/step - loss: 0.0484 - accuracy: 0.9993 - val_loss: 0.1850 - val_accuracy: 0.9310\n",
            "Epoch 29/30\n",
            "81/81 [==============================] - ETA: 0s - loss: 0.0474 - accuracy: 0.9994\n",
            "Epoch 29: saving model to best_ensemble_model.keras\n",
            "81/81 [==============================] - 107s 1s/step - loss: 0.0474 - accuracy: 0.9994 - val_loss: 0.1752 - val_accuracy: 0.9403\n",
            "Epoch 30/30\n",
            "81/81 [==============================] - ETA: 0s - loss: 0.0462 - accuracy: 0.9992\n",
            "Epoch 30: saving model to best_ensemble_model.keras\n",
            "81/81 [==============================] - 118s 1s/step - loss: 0.0462 - accuracy: 0.9992 - val_loss: 0.1660 - val_accuracy: 0.9484\n"
          ]
        }
      ]
    },
    {
      "cell_type": "markdown",
      "source": [
        "# Plot Model Progression"
      ],
      "metadata": {
        "id": "6hhqo3nF8flc"
      }
    },
    {
      "cell_type": "markdown",
      "source": [
        "Accuracy (training vs validation dataset)"
      ],
      "metadata": {
        "id": "YpwB6-Zr8rkF"
      }
    },
    {
      "cell_type": "code",
      "source": [
        "plt.plot(history.history['accuracy'])\n",
        "plt.plot(history.history['val_accuracy'])\n",
        "plt.title('Model Accuracy')\n",
        "plt.ylabel('Accuracy')\n",
        "plt.xlabel('Epoch')\n",
        "plt.legend(['train', 'val'], loc='upper left')\n",
        "plt.show()"
      ],
      "metadata": {
        "colab": {
          "base_uri": "https://localhost:8080/",
          "height": 472
        },
        "id": "t_ZBJeXV8buR",
        "outputId": "5eea5677-38df-4cba-8e34-6d645eb07f95"
      },
      "execution_count": null,
      "outputs": [
        {
          "output_type": "display_data",
          "data": {
            "text/plain": [
              "<Figure size 640x480 with 1 Axes>"
            ],
            "image/png": "[encoded data removed]"
          },
          "metadata": {}
        }
      ]
    },
    {
      "cell_type": "markdown",
      "source": [
        "Loss (training vs validation dataset)"
      ],
      "metadata": {
        "id": "fHEDxtRh8tqa"
      }
    },
    {
      "cell_type": "code",
      "source": [
        "plt.plot(history.history['loss'])\n",
        "plt.plot(history.history['val_loss'])\n",
        "plt.title('Model Loss')\n",
        "plt.ylabel('Loss')\n",
        "plt.xlabel('Epoch')\n",
        "plt.legend(['train', 'val'], loc='upper left')\n",
        "plt.show()"
      ],
      "metadata": {
        "colab": {
          "base_uri": "https://localhost:8080/",
          "height": 472
        },
        "id": "B-poqNmt8wKC",
        "outputId": "cc6bd7e0-1ba0-4151-ef24-6c3a2e280f03"
      },
      "execution_count": null,
      "outputs": [
        {
          "output_type": "display_data",
          "data": {
            "text/plain": [
              "<Figure size 640x480 with 1 Axes>"
            ],
            "image/png": "[encoded data removed]"
          },
          "metadata": {}
        }
      ]
    },
    {
      "cell_type": "markdown",
      "source": [
        "Load best model weights"
      ],
      "metadata": {
        "id": "6HeRBcoj87e5"
      }
    },
    {
      "cell_type": "code",
      "source": [
        "#ensemble_model.load_weights('best_ensemble_model.keras')"
      ],
      "metadata": {
        "id": "dV58zg2v893I",
        "colab": {
          "base_uri": "https://localhost:8080/",
          "height": 529
        },
        "outputId": "aaead192-6182-46b3-a8f4-bca543f33eb5"
      },
      "execution_count": null,
      "outputs": [
        {
          "output_type": "error",
          "ename": "KeyboardInterrupt",
          "evalue": "ignored",
          "traceback": [
            "\u001b[0;31m---------------------------------------------------------------------------\u001b[0m",
            "\u001b[0;31mKeyboardInterrupt\u001b[0m                         Traceback (most recent call last)",
            "\u001b[0;32m<ipython-input-28-68fa89044764>\u001b[0m in \u001b[0;36m<cell line: 1>\u001b[0;34m()\u001b[0m\n\u001b[0;32m----> 1\u001b[0;31m \u001b[0mensemble_model\u001b[0m\u001b[0;34m.\u001b[0m\u001b[0mload_weights\u001b[0m\u001b[0;34m(\u001b[0m\u001b[0;34m'best_ensemble_model.keras'\u001b[0m\u001b[0;34m)\u001b[0m\u001b[0;34m\u001b[0m\u001b[0;34m\u001b[0m\u001b[0m\n\u001b[0m",
            "\u001b[0;32m/usr/local/lib/python3.10/dist-packages/keras/src/utils/traceback_utils.py\u001b[0m in \u001b[0;36merror_handler\u001b[0;34m(*args, **kwargs)\u001b[0m\n\u001b[1;32m     63\u001b[0m         \u001b[0mfiltered_tb\u001b[0m \u001b[0;34m=\u001b[0m \u001b[0;32mNone\u001b[0m\u001b[0;34m\u001b[0m\u001b[0;34m\u001b[0m\u001b[0m\n\u001b[1;32m     64\u001b[0m         \u001b[0;32mtry\u001b[0m\u001b[0;34m:\u001b[0m\u001b[0;34m\u001b[0m\u001b[0;34m\u001b[0m\u001b[0m\n\u001b[0;32m---> 65\u001b[0;31m             \u001b[0;32mreturn\u001b[0m \u001b[0mfn\u001b[0m\u001b[0;34m(\u001b[0m\u001b[0;34m*\u001b[0m\u001b[0margs\u001b[0m\u001b[0;34m,\u001b[0m \u001b[0;34m**\u001b[0m\u001b[0mkwargs\u001b[0m\u001b[0;34m)\u001b[0m\u001b[0;34m\u001b[0m\u001b[0;34m\u001b[0m\u001b[0m\n\u001b[0m\u001b[1;32m     66\u001b[0m         \u001b[0;32mexcept\u001b[0m \u001b[0mException\u001b[0m \u001b[0;32mas\u001b[0m \u001b[0me\u001b[0m\u001b[0;34m:\u001b[0m\u001b[0;34m\u001b[0m\u001b[0;34m\u001b[0m\u001b[0m\n\u001b[1;32m     67\u001b[0m             \u001b[0mfiltered_tb\u001b[0m \u001b[0;34m=\u001b[0m \u001b[0m_process_traceback_frames\u001b[0m\u001b[0;34m(\u001b[0m\u001b[0me\u001b[0m\u001b[0;34m.\u001b[0m\u001b[0m__traceback__\u001b[0m\u001b[0;34m)\u001b[0m\u001b[0;34m\u001b[0m\u001b[0;34m\u001b[0m\u001b[0m\n",
            "\u001b[0;32m/usr/local/lib/python3.10/dist-packages/keras/src/engine/training.py\u001b[0m in \u001b[0;36mload_weights\u001b[0;34m(self, filepath, skip_mismatch, by_name, options)\u001b[0m\n\u001b[1;32m   3130\u001b[0m                 \u001b[0moptions\u001b[0m \u001b[0;32mfor\u001b[0m \u001b[0mloading\u001b[0m \u001b[0mweights\u001b[0m \u001b[0;34m(\u001b[0m\u001b[0monly\u001b[0m \u001b[0mvalid\u001b[0m \u001b[0;32mfor\u001b[0m \u001b[0ma\u001b[0m \u001b[0mSavedModel\u001b[0m \u001b[0mfile\u001b[0m\u001b[0;34m)\u001b[0m\u001b[0;34m.\u001b[0m\u001b[0;34m\u001b[0m\u001b[0;34m\u001b[0m\u001b[0m\n\u001b[1;32m   3131\u001b[0m         \"\"\"\n\u001b[0;32m-> 3132\u001b[0;31m         return saving_api.load_weights(\n\u001b[0m\u001b[1;32m   3133\u001b[0m             \u001b[0mself\u001b[0m\u001b[0;34m,\u001b[0m\u001b[0;34m\u001b[0m\u001b[0;34m\u001b[0m\u001b[0m\n\u001b[1;32m   3134\u001b[0m             \u001b[0mfilepath\u001b[0m\u001b[0;34m=\u001b[0m\u001b[0mfilepath\u001b[0m\u001b[0;34m,\u001b[0m\u001b[0;34m\u001b[0m\u001b[0;34m\u001b[0m\u001b[0m\n",
            "\u001b[0;32m/usr/local/lib/python3.10/dist-packages/keras/src/saving/saving_api.py\u001b[0m in \u001b[0;36mload_weights\u001b[0;34m(model, filepath, skip_mismatch, **kwargs)\u001b[0m\n\u001b[1;32m    261\u001b[0m \u001b[0;32mdef\u001b[0m \u001b[0mload_weights\u001b[0m\u001b[0;34m(\u001b[0m\u001b[0mmodel\u001b[0m\u001b[0;34m,\u001b[0m \u001b[0mfilepath\u001b[0m\u001b[0;34m,\u001b[0m \u001b[0mskip_mismatch\u001b[0m\u001b[0;34m=\u001b[0m\u001b[0;32mFalse\u001b[0m\u001b[0;34m,\u001b[0m \u001b[0;34m**\u001b[0m\u001b[0mkwargs\u001b[0m\u001b[0;34m)\u001b[0m\u001b[0;34m:\u001b[0m\u001b[0;34m\u001b[0m\u001b[0;34m\u001b[0m\u001b[0m\n\u001b[1;32m    262\u001b[0m     \u001b[0;32mif\u001b[0m \u001b[0mstr\u001b[0m\u001b[0;34m(\u001b[0m\u001b[0mfilepath\u001b[0m\u001b[0;34m)\u001b[0m\u001b[0;34m.\u001b[0m\u001b[0mendswith\u001b[0m\u001b[0;34m(\u001b[0m\u001b[0;34m\".keras\"\u001b[0m\u001b[0;34m)\u001b[0m \u001b[0;32mand\u001b[0m \u001b[0mzipfile\u001b[0m\u001b[0;34m.\u001b[0m\u001b[0mis_zipfile\u001b[0m\u001b[0;34m(\u001b[0m\u001b[0mfilepath\u001b[0m\u001b[0;34m)\u001b[0m\u001b[0;34m:\u001b[0m\u001b[0;34m\u001b[0m\u001b[0;34m\u001b[0m\u001b[0m\n\u001b[0;32m--> 263\u001b[0;31m         saving_lib.load_weights_only(\n\u001b[0m\u001b[1;32m    264\u001b[0m             \u001b[0mmodel\u001b[0m\u001b[0;34m,\u001b[0m \u001b[0mfilepath\u001b[0m\u001b[0;34m,\u001b[0m \u001b[0mskip_mismatch\u001b[0m\u001b[0;34m=\u001b[0m\u001b[0mskip_mismatch\u001b[0m\u001b[0;34m\u001b[0m\u001b[0;34m\u001b[0m\u001b[0m\n\u001b[1;32m    265\u001b[0m         )\n",
            "\u001b[0;32m/usr/local/lib/python3.10/dist-packages/keras/src/saving/saving_lib.py\u001b[0m in \u001b[0;36mload_weights_only\u001b[0;34m(model, filepath, skip_mismatch)\u001b[0m\n\u001b[1;32m    321\u001b[0m         )\n\u001b[1;32m    322\u001b[0m \u001b[0;34m\u001b[0m\u001b[0m\n\u001b[0;32m--> 323\u001b[0;31m     _load_state(\n\u001b[0m\u001b[1;32m    324\u001b[0m         \u001b[0mmodel\u001b[0m\u001b[0;34m,\u001b[0m\u001b[0;34m\u001b[0m\u001b[0;34m\u001b[0m\u001b[0m\n\u001b[1;32m    325\u001b[0m         \u001b[0mweights_store\u001b[0m\u001b[0;34m=\u001b[0m\u001b[0mweights_store\u001b[0m\u001b[0;34m,\u001b[0m\u001b[0;34m\u001b[0m\u001b[0;34m\u001b[0m\u001b[0m\n",
            "\u001b[0;32m/usr/local/lib/python3.10/dist-packages/keras/src/saving/saving_lib.py\u001b[0m in \u001b[0;36m_load_state\u001b[0;34m(trackable, weights_store, assets_store, inner_path, skip_mismatch, visited_trackables)\u001b[0m\n\u001b[1;32m    445\u001b[0m     \u001b[0;32mfor\u001b[0m \u001b[0mchild_attr\u001b[0m\u001b[0;34m,\u001b[0m \u001b[0mchild_obj\u001b[0m \u001b[0;32min\u001b[0m \u001b[0m_walk_trackable\u001b[0m\u001b[0;34m(\u001b[0m\u001b[0mtrackable\u001b[0m\u001b[0;34m)\u001b[0m\u001b[0;34m:\u001b[0m\u001b[0;34m\u001b[0m\u001b[0;34m\u001b[0m\u001b[0m\n\u001b[1;32m    446\u001b[0m         \u001b[0;32mif\u001b[0m \u001b[0m_is_keras_trackable\u001b[0m\u001b[0;34m(\u001b[0m\u001b[0mchild_obj\u001b[0m\u001b[0;34m)\u001b[0m\u001b[0;34m:\u001b[0m\u001b[0;34m\u001b[0m\u001b[0;34m\u001b[0m\u001b[0m\n\u001b[0;32m--> 447\u001b[0;31m             _load_state(\n\u001b[0m\u001b[1;32m    448\u001b[0m                 \u001b[0mchild_obj\u001b[0m\u001b[0;34m,\u001b[0m\u001b[0;34m\u001b[0m\u001b[0;34m\u001b[0m\u001b[0m\n\u001b[1;32m    449\u001b[0m                 \u001b[0mweights_store\u001b[0m\u001b[0;34m,\u001b[0m\u001b[0;34m\u001b[0m\u001b[0;34m\u001b[0m\u001b[0m\n",
            "\u001b[0;32m/usr/local/lib/python3.10/dist-packages/keras/src/saving/saving_lib.py\u001b[0m in \u001b[0;36m_load_state\u001b[0;34m(trackable, weights_store, assets_store, inner_path, skip_mismatch, visited_trackables)\u001b[0m\n\u001b[1;32m    423\u001b[0m                 )\n\u001b[1;32m    424\u001b[0m         \u001b[0;32melse\u001b[0m\u001b[0;34m:\u001b[0m\u001b[0;34m\u001b[0m\u001b[0;34m\u001b[0m\u001b[0m\n\u001b[0;32m--> 425\u001b[0;31m             \u001b[0mtrackable\u001b[0m\u001b[0;34m.\u001b[0m\u001b[0mload_own_variables\u001b[0m\u001b[0;34m(\u001b[0m\u001b[0mweights_store\u001b[0m\u001b[0;34m.\u001b[0m\u001b[0mget\u001b[0m\u001b[0;34m(\u001b[0m\u001b[0minner_path\u001b[0m\u001b[0;34m)\u001b[0m\u001b[0;34m)\u001b[0m\u001b[0;34m\u001b[0m\u001b[0;34m\u001b[0m\u001b[0m\n\u001b[0m\u001b[1;32m    426\u001b[0m \u001b[0;34m\u001b[0m\u001b[0m\n\u001b[1;32m    427\u001b[0m     \u001b[0;32mif\u001b[0m \u001b[0mhasattr\u001b[0m\u001b[0;34m(\u001b[0m\u001b[0mtrackable\u001b[0m\u001b[0;34m,\u001b[0m \u001b[0;34m\"load_assets\"\u001b[0m\u001b[0;34m)\u001b[0m \u001b[0;32mand\u001b[0m \u001b[0massets_store\u001b[0m\u001b[0;34m:\u001b[0m\u001b[0;34m\u001b[0m\u001b[0;34m\u001b[0m\u001b[0m\n",
            "\u001b[0;32m/usr/local/lib/python3.10/dist-packages/keras/src/saving/saving_lib.py\u001b[0m in \u001b[0;36mget\u001b[0;34m(self, path)\u001b[0m\n\u001b[1;32m    611\u001b[0m             \u001b[0;32mreturn\u001b[0m \u001b[0mself\u001b[0m\u001b[0;34m.\u001b[0m\u001b[0mh5_file\u001b[0m\u001b[0;34m[\u001b[0m\u001b[0;34m\"vars\"\u001b[0m\u001b[0;34m]\u001b[0m\u001b[0;34m\u001b[0m\u001b[0;34m\u001b[0m\u001b[0m\n\u001b[1;32m    612\u001b[0m         \u001b[0;32mif\u001b[0m \u001b[0mpath\u001b[0m \u001b[0;32min\u001b[0m \u001b[0mself\u001b[0m\u001b[0;34m.\u001b[0m\u001b[0mh5_file\u001b[0m \u001b[0;32mand\u001b[0m \u001b[0;34m\"vars\"\u001b[0m \u001b[0;32min\u001b[0m \u001b[0mself\u001b[0m\u001b[0;34m.\u001b[0m\u001b[0mh5_file\u001b[0m\u001b[0;34m[\u001b[0m\u001b[0mpath\u001b[0m\u001b[0;34m]\u001b[0m\u001b[0;34m:\u001b[0m\u001b[0;34m\u001b[0m\u001b[0;34m\u001b[0m\u001b[0m\n\u001b[0;32m--> 613\u001b[0;31m             \u001b[0;32mreturn\u001b[0m \u001b[0mself\u001b[0m\u001b[0;34m.\u001b[0m\u001b[0mh5_file\u001b[0m\u001b[0;34m[\u001b[0m\u001b[0mpath\u001b[0m\u001b[0;34m]\u001b[0m\u001b[0;34m[\u001b[0m\u001b[0;34m\"vars\"\u001b[0m\u001b[0;34m]\u001b[0m\u001b[0;34m\u001b[0m\u001b[0;34m\u001b[0m\u001b[0m\n\u001b[0m\u001b[1;32m    614\u001b[0m         \u001b[0;32mreturn\u001b[0m \u001b[0;34m{\u001b[0m\u001b[0;34m}\u001b[0m\u001b[0;34m\u001b[0m\u001b[0;34m\u001b[0m\u001b[0m\n\u001b[1;32m    615\u001b[0m \u001b[0;34m\u001b[0m\u001b[0m\n",
            "\u001b[0;32mh5py/_objects.pyx\u001b[0m in \u001b[0;36mh5py._objects.with_phil.wrapper\u001b[0;34m()\u001b[0m\n",
            "\u001b[0;32mh5py/_objects.pyx\u001b[0m in \u001b[0;36mh5py._objects.with_phil.wrapper\u001b[0;34m()\u001b[0m\n",
            "\u001b[0;32m/usr/local/lib/python3.10/dist-packages/h5py/_hl/group.py\u001b[0m in \u001b[0;36m__getitem__\u001b[0;34m(self, name)\u001b[0m\n\u001b[1;32m    355\u001b[0m                 \u001b[0;32mraise\u001b[0m \u001b[0mValueError\u001b[0m\u001b[0;34m(\u001b[0m\u001b[0;34m\"Invalid HDF5 object reference\"\u001b[0m\u001b[0;34m)\u001b[0m\u001b[0;34m\u001b[0m\u001b[0;34m\u001b[0m\u001b[0m\n\u001b[1;32m    356\u001b[0m         \u001b[0;32melif\u001b[0m \u001b[0misinstance\u001b[0m\u001b[0;34m(\u001b[0m\u001b[0mname\u001b[0m\u001b[0;34m,\u001b[0m \u001b[0;34m(\u001b[0m\u001b[0mbytes\u001b[0m\u001b[0;34m,\u001b[0m \u001b[0mstr\u001b[0m\u001b[0;34m)\u001b[0m\u001b[0;34m)\u001b[0m\u001b[0;34m:\u001b[0m\u001b[0;34m\u001b[0m\u001b[0;34m\u001b[0m\u001b[0m\n\u001b[0;32m--> 357\u001b[0;31m             \u001b[0moid\u001b[0m \u001b[0;34m=\u001b[0m \u001b[0mh5o\u001b[0m\u001b[0;34m.\u001b[0m\u001b[0mopen\u001b[0m\u001b[0;34m(\u001b[0m\u001b[0mself\u001b[0m\u001b[0;34m.\u001b[0m\u001b[0mid\u001b[0m\u001b[0;34m,\u001b[0m \u001b[0mself\u001b[0m\u001b[0;34m.\u001b[0m\u001b[0m_e\u001b[0m\u001b[0;34m(\u001b[0m\u001b[0mname\u001b[0m\u001b[0;34m)\u001b[0m\u001b[0;34m,\u001b[0m \u001b[0mlapl\u001b[0m\u001b[0;34m=\u001b[0m\u001b[0mself\u001b[0m\u001b[0;34m.\u001b[0m\u001b[0m_lapl\u001b[0m\u001b[0;34m)\u001b[0m\u001b[0;34m\u001b[0m\u001b[0;34m\u001b[0m\u001b[0m\n\u001b[0m\u001b[1;32m    358\u001b[0m         \u001b[0;32melse\u001b[0m\u001b[0;34m:\u001b[0m\u001b[0;34m\u001b[0m\u001b[0;34m\u001b[0m\u001b[0m\n\u001b[1;32m    359\u001b[0m             raise TypeError(\"Accessing a group is done with bytes or str, \"\n",
            "\u001b[0;32mh5py/_objects.pyx\u001b[0m in \u001b[0;36mh5py._objects.with_phil.wrapper\u001b[0;34m()\u001b[0m\n",
            "\u001b[0;32mh5py/_objects.pyx\u001b[0m in \u001b[0;36mh5py._objects.with_phil.wrapper\u001b[0;34m()\u001b[0m\n",
            "\u001b[0;32mh5py/h5o.pyx\u001b[0m in \u001b[0;36mh5py.h5o.open\u001b[0;34m()\u001b[0m\n",
            "\u001b[0;32mh5py/h5fd.pyx\u001b[0m in \u001b[0;36mh5py.h5fd.H5FD_fileobj_read\u001b[0;34m()\u001b[0m\n",
            "\u001b[0;32m/usr/lib/python3.10/zipfile.py\u001b[0m in \u001b[0;36mseek\u001b[0;34m(self, offset, whence)\u001b[0m\n\u001b[1;32m   1091\u001b[0m         \u001b[0;32mwhile\u001b[0m \u001b[0mread_offset\u001b[0m \u001b[0;34m>\u001b[0m \u001b[0;36m0\u001b[0m\u001b[0;34m:\u001b[0m\u001b[0;34m\u001b[0m\u001b[0;34m\u001b[0m\u001b[0m\n\u001b[1;32m   1092\u001b[0m             \u001b[0mread_len\u001b[0m \u001b[0;34m=\u001b[0m \u001b[0mmin\u001b[0m\u001b[0;34m(\u001b[0m\u001b[0mself\u001b[0m\u001b[0;34m.\u001b[0m\u001b[0mMAX_SEEK_READ\u001b[0m\u001b[0;34m,\u001b[0m \u001b[0mread_offset\u001b[0m\u001b[0;34m)\u001b[0m\u001b[0;34m\u001b[0m\u001b[0;34m\u001b[0m\u001b[0m\n\u001b[0;32m-> 1093\u001b[0;31m             \u001b[0mself\u001b[0m\u001b[0;34m.\u001b[0m\u001b[0mread\u001b[0m\u001b[0;34m(\u001b[0m\u001b[0mread_len\u001b[0m\u001b[0;34m)\u001b[0m\u001b[0;34m\u001b[0m\u001b[0;34m\u001b[0m\u001b[0m\n\u001b[0m\u001b[1;32m   1094\u001b[0m             \u001b[0mread_offset\u001b[0m \u001b[0;34m-=\u001b[0m \u001b[0mread_len\u001b[0m\u001b[0;34m\u001b[0m\u001b[0;34m\u001b[0m\u001b[0m\n\u001b[1;32m   1095\u001b[0m \u001b[0;34m\u001b[0m\u001b[0m\n",
            "\u001b[0;32m/usr/lib/python3.10/zipfile.py\u001b[0m in \u001b[0;36mread\u001b[0;34m(self, n)\u001b[0m\n\u001b[1;32m    925\u001b[0m         \u001b[0mself\u001b[0m\u001b[0;34m.\u001b[0m\u001b[0m_offset\u001b[0m \u001b[0;34m=\u001b[0m \u001b[0;36m0\u001b[0m\u001b[0;34m\u001b[0m\u001b[0;34m\u001b[0m\u001b[0m\n\u001b[1;32m    926\u001b[0m         \u001b[0;32mwhile\u001b[0m \u001b[0mn\u001b[0m \u001b[0;34m>\u001b[0m \u001b[0;36m0\u001b[0m \u001b[0;32mand\u001b[0m \u001b[0;32mnot\u001b[0m \u001b[0mself\u001b[0m\u001b[0;34m.\u001b[0m\u001b[0m_eof\u001b[0m\u001b[0;34m:\u001b[0m\u001b[0;34m\u001b[0m\u001b[0;34m\u001b[0m\u001b[0m\n\u001b[0;32m--> 927\u001b[0;31m             \u001b[0mdata\u001b[0m \u001b[0;34m=\u001b[0m \u001b[0mself\u001b[0m\u001b[0;34m.\u001b[0m\u001b[0m_read1\u001b[0m\u001b[0;34m(\u001b[0m\u001b[0mn\u001b[0m\u001b[0;34m)\u001b[0m\u001b[0;34m\u001b[0m\u001b[0;34m\u001b[0m\u001b[0m\n\u001b[0m\u001b[1;32m    928\u001b[0m             \u001b[0;32mif\u001b[0m \u001b[0mn\u001b[0m \u001b[0;34m<\u001b[0m \u001b[0mlen\u001b[0m\u001b[0;34m(\u001b[0m\u001b[0mdata\u001b[0m\u001b[0;34m)\u001b[0m\u001b[0;34m:\u001b[0m\u001b[0;34m\u001b[0m\u001b[0;34m\u001b[0m\u001b[0m\n\u001b[1;32m    929\u001b[0m                 \u001b[0mself\u001b[0m\u001b[0;34m.\u001b[0m\u001b[0m_readbuffer\u001b[0m \u001b[0;34m=\u001b[0m \u001b[0mdata\u001b[0m\u001b[0;34m\u001b[0m\u001b[0;34m\u001b[0m\u001b[0m\n",
            "\u001b[0;32m/usr/lib/python3.10/zipfile.py\u001b[0m in \u001b[0;36m_read1\u001b[0;34m(self, n)\u001b[0m\n\u001b[1;32m   1015\u001b[0m         \u001b[0;32mif\u001b[0m \u001b[0mself\u001b[0m\u001b[0;34m.\u001b[0m\u001b[0m_left\u001b[0m \u001b[0;34m<=\u001b[0m \u001b[0;36m0\u001b[0m\u001b[0;34m:\u001b[0m\u001b[0;34m\u001b[0m\u001b[0;34m\u001b[0m\u001b[0m\n\u001b[1;32m   1016\u001b[0m             \u001b[0mself\u001b[0m\u001b[0;34m.\u001b[0m\u001b[0m_eof\u001b[0m \u001b[0;34m=\u001b[0m \u001b[0;32mTrue\u001b[0m\u001b[0;34m\u001b[0m\u001b[0;34m\u001b[0m\u001b[0m\n\u001b[0;32m-> 1017\u001b[0;31m         \u001b[0mself\u001b[0m\u001b[0;34m.\u001b[0m\u001b[0m_update_crc\u001b[0m\u001b[0;34m(\u001b[0m\u001b[0mdata\u001b[0m\u001b[0;34m)\u001b[0m\u001b[0;34m\u001b[0m\u001b[0;34m\u001b[0m\u001b[0m\n\u001b[0m\u001b[1;32m   1018\u001b[0m         \u001b[0;32mreturn\u001b[0m \u001b[0mdata\u001b[0m\u001b[0;34m\u001b[0m\u001b[0;34m\u001b[0m\u001b[0m\n\u001b[1;32m   1019\u001b[0m \u001b[0;34m\u001b[0m\u001b[0m\n",
            "\u001b[0;32m/usr/lib/python3.10/zipfile.py\u001b[0m in \u001b[0;36m_update_crc\u001b[0;34m(self, newdata)\u001b[0m\n\u001b[1;32m    940\u001b[0m             \u001b[0;31m# No need to compute the CRC if we don't have a reference value\u001b[0m\u001b[0;34m\u001b[0m\u001b[0;34m\u001b[0m\u001b[0m\n\u001b[1;32m    941\u001b[0m             \u001b[0;32mreturn\u001b[0m\u001b[0;34m\u001b[0m\u001b[0;34m\u001b[0m\u001b[0m\n\u001b[0;32m--> 942\u001b[0;31m         \u001b[0mself\u001b[0m\u001b[0;34m.\u001b[0m\u001b[0m_running_crc\u001b[0m \u001b[0;34m=\u001b[0m \u001b[0mcrc32\u001b[0m\u001b[0;34m(\u001b[0m\u001b[0mnewdata\u001b[0m\u001b[0;34m,\u001b[0m \u001b[0mself\u001b[0m\u001b[0;34m.\u001b[0m\u001b[0m_running_crc\u001b[0m\u001b[0;34m)\u001b[0m\u001b[0;34m\u001b[0m\u001b[0;34m\u001b[0m\u001b[0m\n\u001b[0m\u001b[1;32m    943\u001b[0m         \u001b[0;31m# Check the CRC if we're at the end of the file\u001b[0m\u001b[0;34m\u001b[0m\u001b[0;34m\u001b[0m\u001b[0m\n\u001b[1;32m    944\u001b[0m         \u001b[0;32mif\u001b[0m \u001b[0mself\u001b[0m\u001b[0;34m.\u001b[0m\u001b[0m_eof\u001b[0m \u001b[0;32mand\u001b[0m \u001b[0mself\u001b[0m\u001b[0;34m.\u001b[0m\u001b[0m_running_crc\u001b[0m \u001b[0;34m!=\u001b[0m \u001b[0mself\u001b[0m\u001b[0;34m.\u001b[0m\u001b[0m_expected_crc\u001b[0m\u001b[0;34m:\u001b[0m\u001b[0;34m\u001b[0m\u001b[0;34m\u001b[0m\u001b[0m\n",
            "\u001b[0;31mKeyboardInterrupt\u001b[0m: "
          ]
        }
      ]
    },
    {
      "cell_type": "markdown",
      "source": [
        "Print model weights"
      ],
      "metadata": {
        "id": "5cxh1ZDK_pmP"
      }
    },
    {
      "cell_type": "code",
      "source": [
        "'''\n",
        "# Load your pre-trained model (replace 'model.h5' with your model's filename)\n",
        "best_model = tf.keras.models.load_model('best_ensemble_model.keras')\n",
        "# Define the path where you want to save the model\n",
        "model_save_path = '/content/drive/My Drive/Colab Notebooks/Skin Cancer Classification/'\n",
        "\n",
        "# Save the best model to Google Drive\n",
        "best_model.save(model_save_path + 'best_avg_ensemble_model.keras')\n",
        "# Get the list of all layers in the model\n",
        "all_layers = best_model.layers\n",
        "\n",
        "# Loop through the layers and print their weights if they have any\n",
        "for layer in all_layers:\n",
        "    if layer.weights:\n",
        "        print(f\"Layer: {layer.name}\")\n",
        "        for weight in layer.weights:\n",
        "            print(f\"  {weight.name}:\")\n",
        "            print(weight.numpy())\n",
        "            '''"
      ],
      "metadata": {
        "colab": {
          "base_uri": "https://localhost:8080/",
          "height": 122
        },
        "id": "ajQiLCVc_pC3",
        "outputId": "1c8cf9e9-7a85-471a-b2c2-76d1c12d6dce"
      },
      "execution_count": null,
      "outputs": [
        {
          "output_type": "execute_result",
          "data": {
            "text/plain": [
              "'\\n# Load your pre-trained model (replace \\'model.h5\\' with your model\\'s filename)\\nbest_model = tf.keras.models.load_model(\\'best_ensemble_model.keras\\')\\n# Define the path where you want to save the model\\nmodel_save_path = \\'/content/drive/My Drive/Colab Notebooks/Skin Cancer Classification/\\'\\n\\n# Save the best model to Google Drive\\nbest_model.save(model_save_path + \\'best_avg_ensemble_model.keras\\')\\n# Get the list of all layers in the model\\nall_layers = best_model.layers\\n\\n# Loop through the layers and print their weights if they have any\\nfor layer in all_layers:\\n    if layer.weights:\\n        print(f\"Layer: {layer.name}\")\\n        for weight in layer.weights:\\n            print(f\"  {weight.name}:\")\\n            print(weight.numpy())\\n            '"
            ],
            "application/vnd.google.colaboratory.intrinsic+json": {
              "type": "string"
            }
          },
          "metadata": {},
          "execution_count": 30
        }
      ]
    },
    {
      "cell_type": "markdown",
      "source": [
        "# Model Testing"
      ],
      "metadata": {
        "id": "RjTCI_nnDXrV"
      }
    },
    {
      "cell_type": "code",
      "source": [
        "#loss, acc = model.evaluate(X_test, Y_test, verbose=2)"
      ],
      "metadata": {
        "id": "RbldVK9nDaxb"
      },
      "execution_count": null,
      "outputs": []
    },
    {
      "cell_type": "code",
      "source": [
        "import sklearn.metrics as metrics\n",
        "\n",
        "y_pred_ohe = ensemble_model.predict(X_test)\n",
        "#y_pred_labels = np.argmax(y_pred_ohe, axis=1)"
      ],
      "metadata": {
        "colab": {
          "base_uri": "https://localhost:8080/"
        },
        "id": "abpzQKNcDs5D",
        "outputId": "426155ca-dad5-4a3e-b6a9-e881cb9f4be6"
      },
      "execution_count": null,
      "outputs": [
        {
          "output_type": "stream",
          "name": "stdout",
          "text": [
            "101/101 [==============================] - 14s 85ms/step\n"
          ]
        }
      ]
    },
    {
      "cell_type": "code",
      "source": [
        "threshold = 0.7\n",
        "y_pred_labels = (y_pred_ohe >= threshold).astype(int)"
      ],
      "metadata": {
        "id": "qDjMGp9O_KfD"
      },
      "execution_count": null,
      "outputs": []
    },
    {
      "cell_type": "code",
      "source": [
        "print(y_pred_labels)"
      ],
      "metadata": {
        "colab": {
          "base_uri": "https://localhost:8080/"
        },
        "id": "rA0I49CO_mhI",
        "outputId": "dfc84e94-52d6-45f7-a195-26599a1536ac"
      },
      "execution_count": null,
      "outputs": [
        {
          "output_type": "stream",
          "name": "stdout",
          "text": [
            "[[0]\n",
            " [0]\n",
            " [0]\n",
            " ...\n",
            " [0]\n",
            " [1]\n",
            " [0]]\n"
          ]
        }
      ]
    },
    {
      "cell_type": "code",
      "source": [
        "confusion_matrix = metrics.confusion_matrix(y_true=Y_test, y_pred=y_pred_labels)\n",
        "print(confusion_matrix)"
      ],
      "metadata": {
        "colab": {
          "base_uri": "https://localhost:8080/"
        },
        "id": "8mXzcJgQLc9d",
        "outputId": "d359ab68-4c37-4899-f81c-92734f0e4847"
      },
      "execution_count": null,
      "outputs": [
        {
          "output_type": "stream",
          "name": "stdout",
          "text": [
            "[[1522   93]\n",
            " [  29 1581]]\n"
          ]
        }
      ]
    },
    {
      "cell_type": "code",
      "source": [
        "from sklearn.metrics import classification_report\n",
        "class_labels = ['benign', 'malignant']\n",
        "report = classification_report(Y_test, y_pred_labels, target_names = class_labels)\n",
        "print(report)"
      ],
      "metadata": {
        "colab": {
          "base_uri": "https://localhost:8080/"
        },
        "id": "tsYXqqv5LrAI",
        "outputId": "6c5b8bfe-480a-44e9-bbf3-967c669360fa"
      },
      "execution_count": null,
      "outputs": [
        {
          "output_type": "stream",
          "name": "stdout",
          "text": [
            "              precision    recall  f1-score   support\n",
            "\n",
            "      benign       0.98      0.94      0.96      1615\n",
            "   malignant       0.94      0.98      0.96      1610\n",
            "\n",
            "    accuracy                           0.96      3225\n",
            "   macro avg       0.96      0.96      0.96      3225\n",
            "weighted avg       0.96      0.96      0.96      3225\n",
            "\n"
          ]
        }
      ]
    },
    {
      "cell_type": "code",
      "source": [
        "import seaborn as sns\n",
        "\n",
        "cm = confusion_matrix\n",
        "plt.figure(figsize=(8,8))\n",
        "sns.heatmap(cm, fmt='.0f', cmap=\"crest\", annot=True, linewidths=0.2)\n",
        "plt.title('Confusion matrix')\n",
        "plt.xlabel('Predicted value')\n",
        "plt.ylabel('Truth value')\n",
        "plt.show()\n",
        "#print(confusion_matrix(Y_test, y_pred_labels))"
      ],
      "metadata": {
        "colab": {
          "base_uri": "https://localhost:8080/",
          "height": 718
        },
        "id": "XY0lXAKQMYmb",
        "outputId": "d6c879dc-80e6-45ea-8f0e-7460f7ebb5bc"
      },
      "execution_count": null,
      "outputs": [
        {
          "output_type": "display_data",
          "data": {
            "text/plain": [
              "<Figure size 800x800 with 2 Axes>"
            ],
            "image/png": "[encoded data removed]"
          },
          "metadata": {}
        }
      ]
    },
    {
      "cell_type": "code",
      "source": [
        "import matplotlib.pyplot as plt\n",
        "from sklearn.metrics import confusion_matrix, accuracy_score, precision_score, recall_score, f1_score, roc_curve, auc\n",
        "\n",
        "\n",
        "# Calculate accuracy, precision, recall, and F1-score\n",
        "accuracy = accuracy_score(Y_test, y_pred_labels)\n",
        "precision = precision_score(Y_test, y_pred_labels)\n",
        "recall = recall_score(Y_test, y_pred_labels)\n",
        "f1 = f1_score(Y_test, y_pred_labels)\n",
        "\n",
        "print(f\"Accuracy: {accuracy:.2f}\")\n",
        "print(f\"Precision: {precision:.2f}\")\n",
        "print(f\"Recall: {recall:.2f}\")\n",
        "print(f\"F1-score: {f1:.2f}\")"
      ],
      "metadata": {
        "colab": {
          "base_uri": "https://localhost:8080/"
        },
        "id": "Pz7hRs_vPh9-",
        "outputId": "9915c412-18a3-4de4-d020-8d1d9f8b2028"
      },
      "execution_count": null,
      "outputs": [
        {
          "output_type": "stream",
          "name": "stdout",
          "text": [
            "Accuracy: 0.96\n",
            "Precision: 0.94\n",
            "Recall: 0.98\n",
            "F1-score: 0.96\n"
          ]
        }
      ]
    },
    {
      "cell_type": "code",
      "source": [
        "# Plot ROC curve\n",
        "fpr, tpr, _ = roc_curve(Y_test, y_pred_labels)\n",
        "roc_auc = auc(fpr, tpr)\n",
        "\n",
        "plt.figure(figsize=(10, 6))\n",
        "plt.plot(fpr, tpr, color='darkorange', lw=2, label='ROC curve (area = {:.2f})'.format(roc_auc))\n",
        "plt.plot([0, 1], [0, 1], color='navy', lw=2, linestyle='--')\n",
        "plt.xlim([0.0, 1.0])\n",
        "plt.ylim([0.0, 1.05])\n",
        "plt.xlabel('False Positive Rate')\n",
        "plt.ylabel('True Positive Rate')\n",
        "plt.title('Receiver Operating Characteristic (ROC) Curve')\n",
        "plt.legend(loc='lower right')\n",
        "plt.show()"
      ],
      "metadata": {
        "colab": {
          "base_uri": "https://localhost:8080/",
          "height": 564
        },
        "id": "ky2BbcQOQrP8",
        "outputId": "fecba073-90bc-4939-be82-da45a686f441"
      },
      "execution_count": null,
      "outputs": [
        {
          "output_type": "display_data",
          "data": {
            "text/plain": [
              "<Figure size 1000x600 with 1 Axes>"
            ],
            "image/png": "[encoded data removed]"
          },
          "metadata": {}
        }
      ]
    },
    {
      "cell_type": "code",
      "source": [],
      "metadata": {
        "id": "oYhudJbEgWYD"
      },
      "execution_count": null,
      "outputs": []
    }
  ]
}