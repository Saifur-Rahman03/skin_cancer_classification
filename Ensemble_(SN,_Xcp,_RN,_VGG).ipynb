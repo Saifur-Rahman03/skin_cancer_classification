{
  "nbformat": 4,
  "nbformat_minor": 0,
  "metadata": {
    "colab": {
      "provenance": [],
      "gpuType": "T4"
    },
    "kernelspec": {
      "name": "python3",
      "display_name": "Python 3"
    },
    "language_info": {
      "name": "python"
    },
    "accelerator": "GPU"
  },
  "cells": [
    {
      "cell_type": "code",
      "source": [
        "import pandas as pd\n",
        "import numpy as np\n",
        "import matplotlib.pyplot as plt\n",
        "import tensorflow as tf"
      ],
      "metadata": {
        "id": "2Km444v--cJL"
      },
      "execution_count": 1,
      "outputs": []
    },
    {
      "cell_type": "markdown",
      "source": [
        "# Import Data"
      ],
      "metadata": {
        "id": "3_KXXPAE-Zc0"
      }
    },
    {
      "cell_type": "markdown",
      "source": [
        "Mount Drive"
      ],
      "metadata": {
        "id": "JHUa9418-k_z"
      }
    },
    {
      "cell_type": "code",
      "execution_count": 2,
      "metadata": {
        "id": "2XIpzt8RjFzf",
        "colab": {
          "base_uri": "https://localhost:8080/"
        },
        "outputId": "50bfb27a-e524-41ae-f0b0-d96f4df964df"
      },
      "outputs": [
        {
          "output_type": "stream",
          "name": "stdout",
          "text": [
            "Mounted at /content/drive\n"
          ]
        }
      ],
      "source": [
        "from google.colab import drive\n",
        "drive.mount('/content/drive')"
      ]
    },
    {
      "cell_type": "markdown",
      "source": [
        "Read File"
      ],
      "metadata": {
        "id": "qBHAc-ro-r0b"
      }
    },
    {
      "cell_type": "code",
      "source": [
        "# Specify the file path within your Google Drive\n",
        "file_path = '/content/drive/My Drive/Colab Notebooks/Skin Cancer Classification/hmnist_28_28_RGB.csv'  # Replace with your actual file path\n",
        "\n",
        "# Read the file using Pandas (assuming it's a CSV file)\n",
        "df = pd.read_csv(file_path)"
      ],
      "metadata": {
        "id": "G5dnI01C-mOn"
      },
      "execution_count": 3,
      "outputs": []
    },
    {
      "cell_type": "markdown",
      "source": [
        "# Data Preprocessing"
      ],
      "metadata": {
        "id": "eSJxkbT2DJ8K"
      }
    },
    {
      "cell_type": "markdown",
      "source": [
        "Take out the label"
      ],
      "metadata": {
        "id": "h6KedeqQAO_n"
      }
    },
    {
      "cell_type": "code",
      "source": [
        "y = df['label']\n",
        "x = df.drop(columns = ['label'])"
      ],
      "metadata": {
        "id": "uA05b7GX_CtB"
      },
      "execution_count": 4,
      "outputs": []
    },
    {
      "cell_type": "code",
      "source": [
        "print(x.shape)"
      ],
      "metadata": {
        "colab": {
          "base_uri": "https://localhost:8080/"
        },
        "id": "InnolUxmw8Rn",
        "outputId": "725cfa75-1b51-4a04-9cf2-4dcfb1a85cf0"
      },
      "execution_count": 5,
      "outputs": [
        {
          "output_type": "stream",
          "name": "stdout",
          "text": [
            "(10015, 2352)\n"
          ]
        }
      ]
    },
    {
      "cell_type": "markdown",
      "source": [
        "Oversample to handle class imbalance"
      ],
      "metadata": {
        "id": "WvksA9nPMS4O"
      }
    },
    {
      "cell_type": "code",
      "source": [
        "#from imblearn.over_sampling import RandomOverSampler\n",
        "#oversample = RandomOverSampler()\n",
        "#x,y  = oversample.fit_resample(x,y)"
      ],
      "metadata": {
        "id": "psqelX2jMSDv"
      },
      "execution_count": 6,
      "outputs": []
    },
    {
      "cell_type": "markdown",
      "source": [
        "Specify Labels"
      ],
      "metadata": {
        "id": "FIYXeA0LBGzL"
      }
    },
    {
      "cell_type": "code",
      "source": [
        "print(y.nunique())"
      ],
      "metadata": {
        "colab": {
          "base_uri": "https://localhost:8080/"
        },
        "id": "t69USjLOAuGd",
        "outputId": "d0c6cab9-f759-4760-cd08-a4fe4ee3b0a0"
      },
      "execution_count": 7,
      "outputs": [
        {
          "output_type": "stream",
          "name": "stdout",
          "text": [
            "7\n"
          ]
        }
      ]
    },
    {
      "cell_type": "code",
      "source": [
        "print(y.value_counts())\n",
        "#nv       6705 benign\n",
        "#mel      1113 malignant\n",
        "#bkl      1099 benign\n",
        "#bcc       514 malignant\n",
        "#akiec     327 malignant\n",
        "#vasc      142 benign\n",
        "#df        115 benign"
      ],
      "metadata": {
        "colab": {
          "base_uri": "https://localhost:8080/"
        },
        "id": "dAzC3jxqBK18",
        "outputId": "afdfc0cc-0a1d-4859-994c-957fb06b031b"
      },
      "execution_count": 8,
      "outputs": [
        {
          "output_type": "stream",
          "name": "stdout",
          "text": [
            "4    6705\n",
            "6    1113\n",
            "2    1099\n",
            "1     514\n",
            "0     327\n",
            "5     142\n",
            "3     115\n",
            "Name: label, dtype: int64\n"
          ]
        }
      ]
    },
    {
      "cell_type": "markdown",
      "source": [
        "Replace 4, 2, 5, 3 with benign (0), and rest with malignant (1)"
      ],
      "metadata": {
        "id": "qj0df9XuCPI_"
      }
    },
    {
      "cell_type": "code",
      "source": [
        "# Replace values 1, 6, 0 with 1\n",
        "y.replace({1: 1, 6: 1, 0: 1}, inplace=True)\n",
        "\n",
        "# Replace values 4, 2, 5, and 3 with 0\n",
        "y.replace({4: 0, 2: 0, 5: 0, 3: 0}, inplace=True)"
      ],
      "metadata": {
        "id": "loPwLmV6BYyV"
      },
      "execution_count": 9,
      "outputs": []
    },
    {
      "cell_type": "code",
      "source": [
        "print(y.value_counts())\n",
        "# benign 8061\n",
        "# malignant 1954"
      ],
      "metadata": {
        "colab": {
          "base_uri": "https://localhost:8080/"
        },
        "id": "Pgrj4P5oCrS9",
        "outputId": "f205b195-b79f-49ee-e4b5-037fd36daefa"
      },
      "execution_count": 10,
      "outputs": [
        {
          "output_type": "stream",
          "name": "stdout",
          "text": [
            "0    8061\n",
            "1    1954\n",
            "Name: label, dtype: int64\n"
          ]
        }
      ]
    },
    {
      "cell_type": "markdown",
      "source": [
        "Oversampling"
      ],
      "metadata": {
        "id": "MHa3V62vwBp0"
      }
    },
    {
      "cell_type": "code",
      "source": [
        "from imblearn.over_sampling import RandomOverSampler\n",
        "oversample = RandomOverSampler()\n",
        "x,y  = oversample.fit_resample(x,y)"
      ],
      "metadata": {
        "id": "L8DsVGwxwBCq"
      },
      "execution_count": 11,
      "outputs": []
    },
    {
      "cell_type": "code",
      "source": [
        "print(y.value_counts())"
      ],
      "metadata": {
        "colab": {
          "base_uri": "https://localhost:8080/"
        },
        "id": "jX2c1jzvxhyB",
        "outputId": "b7d15883-1518-498d-c435-28c6153a6823"
      },
      "execution_count": 12,
      "outputs": [
        {
          "output_type": "stream",
          "name": "stdout",
          "text": [
            "0    8061\n",
            "1    8061\n",
            "Name: label, dtype: int64\n"
          ]
        }
      ]
    },
    {
      "cell_type": "markdown",
      "source": [
        "Reshape data"
      ],
      "metadata": {
        "id": "t5W8WNKNAeHp"
      }
    },
    {
      "cell_type": "code",
      "source": [
        "x = np.array(x).reshape(-1,28,28,3)\n",
        "print('Shape of X :',x.shape)"
      ],
      "metadata": {
        "colab": {
          "base_uri": "https://localhost:8080/"
        },
        "id": "dhcvAhRK__7O",
        "outputId": "cd406d9d-f82c-4636-ff71-c4130280592a"
      },
      "execution_count": 13,
      "outputs": [
        {
          "output_type": "stream",
          "name": "stdout",
          "text": [
            "Shape of X : (16122, 28, 28, 3)\n"
          ]
        }
      ]
    },
    {
      "cell_type": "markdown",
      "source": [
        "Convert Shape"
      ],
      "metadata": {
        "id": "w4bkCdVNM6Yv"
      }
    },
    {
      "cell_type": "code",
      "source": [
        "from scipy.ndimage import zoom\n",
        "\n",
        "images = x\n",
        "\n",
        "# Define the desired size (224x224)\n",
        "desired_size = (72, 72)\n",
        "\n",
        "# Upscale the images using interpolation\n",
        "upscaled_images = np.zeros((images.shape[0],) + desired_size + (3,))\n",
        "for i in range(images.shape[0]):\n",
        "    for channel in range(3):\n",
        "        upscaled_images[i, :, :, channel] = zoom(images[i, :, :, channel],\n",
        "                                                 (desired_size[0] / images.shape[1], desired_size[1] / images.shape[2]))\n",
        "print(upscaled_images.shape)"
      ],
      "metadata": {
        "colab": {
          "base_uri": "https://localhost:8080/"
        },
        "id": "3e5k84zhvGWG",
        "outputId": "0235dbb7-6ce2-4946-e52d-98c9bf87504c"
      },
      "execution_count": 14,
      "outputs": [
        {
          "output_type": "stream",
          "name": "stdout",
          "text": [
            "(16122, 72, 72, 3)\n"
          ]
        }
      ]
    },
    {
      "cell_type": "code",
      "source": [
        "x = upscaled_images\n",
        "print(x.shape)"
      ],
      "metadata": {
        "colab": {
          "base_uri": "https://localhost:8080/"
        },
        "id": "X7aNlhEW3LnU",
        "outputId": "90fe2776-7072-42a5-84d3-b9c1486cc222"
      },
      "execution_count": 15,
      "outputs": [
        {
          "output_type": "stream",
          "name": "stdout",
          "text": [
            "(16122, 72, 72, 3)\n"
          ]
        }
      ]
    },
    {
      "cell_type": "markdown",
      "source": [
        "Standardization"
      ],
      "metadata": {
        "id": "HPwV1vAP2-Ur"
      }
    },
    {
      "cell_type": "code",
      "source": [
        "x = (x-np.mean(x))/np.std(x)"
      ],
      "metadata": {
        "id": "tpJHth78292P"
      },
      "execution_count": 16,
      "outputs": []
    },
    {
      "cell_type": "markdown",
      "source": [
        "Train-Test Splitting"
      ],
      "metadata": {
        "id": "4g6SoZHSDWNh"
      }
    },
    {
      "cell_type": "code",
      "source": [
        "from sklearn.model_selection import train_test_split\n",
        "X_train, X_test, Y_train, Y_test = train_test_split(x,y, test_size=0.2, random_state=1)"
      ],
      "metadata": {
        "id": "DJlseov2CyPz"
      },
      "execution_count": 17,
      "outputs": []
    },
    {
      "cell_type": "code",
      "source": [
        "print(Y_train.value_counts())\n",
        "print(Y_test.value_counts())"
      ],
      "metadata": {
        "colab": {
          "base_uri": "https://localhost:8080/"
        },
        "id": "NBduuGBD-cjO",
        "outputId": "d95e0bf8-d16d-46fb-c5dd-86ade6a1b4e8"
      },
      "execution_count": 18,
      "outputs": [
        {
          "output_type": "stream",
          "name": "stdout",
          "text": [
            "1    6451\n",
            "0    6446\n",
            "Name: label, dtype: int64\n",
            "0    1615\n",
            "1    1610\n",
            "Name: label, dtype: int64\n"
          ]
        }
      ]
    },
    {
      "cell_type": "markdown",
      "source": [
        "# Ensemble Model Training"
      ],
      "metadata": {
        "id": "mcBsxaW8_rpf"
      }
    },
    {
      "cell_type": "code",
      "source": [
        "import tensorflow as tf\n",
        "from keras.models import Model, load_model\n",
        "from keras.layers import Input, Average\n",
        "\n",
        "model_1 = load_model('/content/drive/My Drive/Colab Notebooks/Skin Cancer Classification/best_model_vgg16.h5')\n",
        "model_1 = Model(inputs=model_1.inputs,\n",
        "                outputs=model_1.outputs,\n",
        "                name='vgg16')\n",
        "\n",
        "model_2 = load_model('/content/drive/My Drive/Colab Notebooks/Skin Cancer Classification/best_model_squeezenet.h5')\n",
        "model_2 = Model(inputs=model_2.inputs,\n",
        "                outputs=model_2.outputs,\n",
        "                name='squeezenet')\n",
        "\n",
        "model_3 = load_model('/content/drive/My Drive/Colab Notebooks/Skin Cancer Classification/best_model_resnet50.h5')\n",
        "model_3 = Model(inputs=model_3.inputs,\n",
        "                outputs=model_3.outputs,\n",
        "                name='resnet50')\n",
        "\n",
        "model_4 = load_model('/content/drive/My Drive/Colab Notebooks/Skin Cancer Classification/best_model_xception.h5')\n",
        "model_4 = Model(inputs=model_4.inputs,\n",
        "                outputs=model_4.outputs,\n",
        "                name='xception')\n",
        "\n",
        "\n"
      ],
      "metadata": {
        "id": "23PDnSAZ_td-"
      },
      "execution_count": 19,
      "outputs": []
    },
    {
      "cell_type": "markdown",
      "source": [
        "Average Ensemble"
      ],
      "metadata": {
        "id": "YIIQgYWlO-zy"
      }
    },
    {
      "cell_type": "code",
      "source": [
        "models = [model_1, model_2, model_3, model_4]\n",
        "\n",
        "model_input = Input(shape=(72, 72, 3))\n",
        "model_outputs = [model(model_input) for model in models]\n",
        "ensemble_output = Average()(model_outputs)\n",
        "ensemble_model = Model(inputs=model_input, outputs=ensemble_output, name='ensemble')"
      ],
      "metadata": {
        "id": "h-wTsiJkA5tc"
      },
      "execution_count": 20,
      "outputs": []
    },
    {
      "cell_type": "code",
      "source": [
        "ensemble_model.summary()"
      ],
      "metadata": {
        "colab": {
          "base_uri": "https://localhost:8080/"
        },
        "id": "nZshnGPoBDnF",
        "outputId": "10a251b7-3ac2-4913-ca36-6a5793ecf67e"
      },
      "execution_count": 21,
      "outputs": [
        {
          "output_type": "stream",
          "name": "stdout",
          "text": [
            "Model: \"ensemble\"\n",
            "__________________________________________________________________________________________________\n",
            " Layer (type)                Output Shape                 Param #   Connected to                  \n",
            "==================================================================================================\n",
            " input_1 (InputLayer)        [(None, 72, 72, 3)]          0         []                            \n",
            "                                                                                                  \n",
            " vgg16 (Functional)          (None, 1)                    1485612   ['input_1[0][0]']             \n",
            "                                                          9                                       \n",
            "                                                                                                  \n",
            " squeezenet (Functional)     (None, 1)                    735937    ['input_1[0][0]']             \n",
            "                                                                                                  \n",
            " resnet50 (Functional)       (None, 1)                    2372915   ['input_1[0][0]']             \n",
            "                                                          3                                       \n",
            "                                                                                                  \n",
            " xception (Functional)       (None, 1)                    2100292   ['input_1[0][0]']             \n",
            "                                                          1                                       \n",
            "                                                                                                  \n",
            " average (Average)           (None, 1)                    0         ['vgg16[0][0]',               \n",
            "                                                                     'squeezenet[0][0]',          \n",
            "                                                                     'resnet50[0][0]',            \n",
            "                                                                     'xception[0][0]']            \n",
            "                                                                                                  \n",
            "==================================================================================================\n",
            "Total params: 60324140 (230.12 MB)\n",
            "Trainable params: 1147972 (4.38 MB)\n",
            "Non-trainable params: 59176168 (225.74 MB)\n",
            "__________________________________________________________________________________________________\n"
          ]
        }
      ]
    },
    {
      "cell_type": "code",
      "source": [
        "ensemble_model.compile(\n",
        "    optimizer='adam',\n",
        "    loss= tf.keras.losses.binary_crossentropy,\n",
        "    metrics=['accuracy']\n",
        ")"
      ],
      "metadata": {
        "id": "qBPYbSfOBUCZ"
      },
      "execution_count": 22,
      "outputs": []
    },
    {
      "cell_type": "code",
      "source": [
        "callback = tf.keras.callbacks.ModelCheckpoint(filepath='best_ensemble_model.keras',\n",
        "                                              monitor='val_acc', mode='max',\n",
        "                                              verbose=1)"
      ],
      "metadata": {
        "id": "8WTeYLMnOtNj"
      },
      "execution_count": 23,
      "outputs": []
    },
    {
      "cell_type": "code",
      "source": [
        "history = ensemble_model.fit(X_train,\n",
        "                    Y_train,\n",
        "                    validation_split=0.2,\n",
        "                    batch_size = 128,\n",
        "                    epochs = 15,\n",
        "                    callbacks=[callback])"
      ],
      "metadata": {
        "colab": {
          "base_uri": "https://localhost:8080/"
        },
        "id": "bIuSoK-5BY_v",
        "outputId": "3294a920-9256-47ac-a330-dea7bcc56bd8"
      },
      "execution_count": 24,
      "outputs": [
        {
          "output_type": "stream",
          "name": "stdout",
          "text": [
            "Epoch 1/15\n",
            "81/81 [==============================] - ETA: 0s - loss: 0.0247 - accuracy: 0.9989\n",
            "Epoch 1: saving model to best_ensemble_model.keras\n",
            "81/81 [==============================] - 69s 420ms/step - loss: 0.0247 - accuracy: 0.9989 - val_loss: 0.1594 - val_accuracy: 0.9329\n",
            "Epoch 2/15\n",
            "81/81 [==============================] - ETA: 0s - loss: 0.0244 - accuracy: 0.9986\n",
            "Epoch 2: saving model to best_ensemble_model.keras\n",
            "81/81 [==============================] - 25s 305ms/step - loss: 0.0244 - accuracy: 0.9986 - val_loss: 0.1694 - val_accuracy: 0.9360\n",
            "Epoch 3/15\n",
            "81/81 [==============================] - ETA: 0s - loss: 0.0277 - accuracy: 0.9989\n",
            "Epoch 3: saving model to best_ensemble_model.keras\n",
            "81/81 [==============================] - 27s 328ms/step - loss: 0.0277 - accuracy: 0.9989 - val_loss: 0.1401 - val_accuracy: 0.9488\n",
            "Epoch 4/15\n",
            "81/81 [==============================] - ETA: 0s - loss: 0.0217 - accuracy: 0.9991\n",
            "Epoch 4: saving model to best_ensemble_model.keras\n",
            "81/81 [==============================] - 26s 325ms/step - loss: 0.0217 - accuracy: 0.9991 - val_loss: 0.1406 - val_accuracy: 0.9446\n",
            "Epoch 5/15\n",
            "81/81 [==============================] - ETA: 0s - loss: 0.0296 - accuracy: 0.9993\n",
            "Epoch 5: saving model to best_ensemble_model.keras\n",
            "81/81 [==============================] - 27s 339ms/step - loss: 0.0296 - accuracy: 0.9993 - val_loss: 0.1518 - val_accuracy: 0.9411\n",
            "Epoch 6/15\n",
            "81/81 [==============================] - ETA: 0s - loss: 0.0337 - accuracy: 0.9992\n",
            "Epoch 6: saving model to best_ensemble_model.keras\n",
            "81/81 [==============================] - 30s 371ms/step - loss: 0.0337 - accuracy: 0.9992 - val_loss: 0.1508 - val_accuracy: 0.9457\n",
            "Epoch 7/15\n",
            "81/81 [==============================] - ETA: 0s - loss: 0.0476 - accuracy: 0.9984\n",
            "Epoch 7: saving model to best_ensemble_model.keras\n",
            "81/81 [==============================] - 25s 311ms/step - loss: 0.0476 - accuracy: 0.9984 - val_loss: 0.1694 - val_accuracy: 0.9388\n",
            "Epoch 8/15\n",
            "81/81 [==============================] - ETA: 0s - loss: 0.0275 - accuracy: 0.9995\n",
            "Epoch 8: saving model to best_ensemble_model.keras\n",
            "81/81 [==============================] - 28s 344ms/step - loss: 0.0275 - accuracy: 0.9995 - val_loss: 0.1354 - val_accuracy: 0.9523\n",
            "Epoch 9/15\n",
            "81/81 [==============================] - ETA: 0s - loss: 0.0265 - accuracy: 0.9995\n",
            "Epoch 9: saving model to best_ensemble_model.keras\n",
            "81/81 [==============================] - 28s 341ms/step - loss: 0.0265 - accuracy: 0.9995 - val_loss: 0.1654 - val_accuracy: 0.9345\n",
            "Epoch 10/15\n",
            "81/81 [==============================] - ETA: 0s - loss: 0.0292 - accuracy: 0.9995\n",
            "Epoch 10: saving model to best_ensemble_model.keras\n",
            "81/81 [==============================] - 30s 376ms/step - loss: 0.0292 - accuracy: 0.9995 - val_loss: 0.1704 - val_accuracy: 0.9322\n",
            "Epoch 11/15\n",
            "81/81 [==============================] - ETA: 0s - loss: 0.0292 - accuracy: 0.9998\n",
            "Epoch 11: saving model to best_ensemble_model.keras\n",
            "81/81 [==============================] - 39s 480ms/step - loss: 0.0292 - accuracy: 0.9998 - val_loss: 0.1823 - val_accuracy: 0.9306\n",
            "Epoch 12/15\n",
            "81/81 [==============================] - ETA: 0s - loss: 0.0230 - accuracy: 0.9995\n",
            "Epoch 12: saving model to best_ensemble_model.keras\n",
            "81/81 [==============================] - 38s 470ms/step - loss: 0.0230 - accuracy: 0.9995 - val_loss: 0.1578 - val_accuracy: 0.9446\n",
            "Epoch 13/15\n",
            "81/81 [==============================] - ETA: 0s - loss: 0.0287 - accuracy: 0.9996\n",
            "Epoch 13: saving model to best_ensemble_model.keras\n",
            "81/81 [==============================] - 46s 576ms/step - loss: 0.0287 - accuracy: 0.9996 - val_loss: 0.1594 - val_accuracy: 0.9465\n",
            "Epoch 14/15\n",
            "81/81 [==============================] - ETA: 0s - loss: 0.0387 - accuracy: 0.9994\n",
            "Epoch 14: saving model to best_ensemble_model.keras\n",
            "81/81 [==============================] - 55s 682ms/step - loss: 0.0387 - accuracy: 0.9994 - val_loss: 0.1648 - val_accuracy: 0.9453\n",
            "Epoch 15/15\n",
            "81/81 [==============================] - ETA: 0s - loss: 0.0377 - accuracy: 0.9995\n",
            "Epoch 15: saving model to best_ensemble_model.keras\n",
            "81/81 [==============================] - 60s 747ms/step - loss: 0.0377 - accuracy: 0.9995 - val_loss: 0.1736 - val_accuracy: 0.9422\n"
          ]
        }
      ]
    },
    {
      "cell_type": "markdown",
      "source": [
        "# Plot Model Progression"
      ],
      "metadata": {
        "id": "6hhqo3nF8flc"
      }
    },
    {
      "cell_type": "markdown",
      "source": [
        "Accuracy (training vs validation dataset)"
      ],
      "metadata": {
        "id": "YpwB6-Zr8rkF"
      }
    },
    {
      "cell_type": "code",
      "source": [
        "plt.plot(history.history['accuracy'])\n",
        "plt.plot(history.history['val_accuracy'])\n",
        "plt.title('Model Accuracy')\n",
        "plt.ylabel('Accuracy')\n",
        "plt.xlabel('Epoch')\n",
        "plt.legend(['train', 'val'], loc='upper left')\n",
        "plt.show()"
      ],
      "metadata": {
        "colab": {
          "base_uri": "https://localhost:8080/",
          "height": 472
        },
        "id": "t_ZBJeXV8buR",
        "outputId": "f60f6be1-8b58-467b-b323-d5f44ff1246f"
      },
      "execution_count": 25,
      "outputs": [
        {
          "output_type": "display_data",
          "data": {
            "text/plain": [
              "<Figure size 640x480 with 1 Axes>"
            ],
            "image/png": "[encoded data removed]"
          },
          "metadata": {}
        }
      ]
    },
    {
      "cell_type": "markdown",
      "source": [
        "Loss (training vs validation dataset)"
      ],
      "metadata": {
        "id": "fHEDxtRh8tqa"
      }
    },
    {
      "cell_type": "code",
      "source": [
        "plt.plot(history.history['loss'])\n",
        "plt.plot(history.history['val_loss'])\n",
        "plt.title('Model Loss')\n",
        "plt.ylabel('Loss')\n",
        "plt.xlabel('Epoch')\n",
        "plt.legend(['train', 'val'], loc='upper left')\n",
        "plt.show()"
      ],
      "metadata": {
        "colab": {
          "base_uri": "https://localhost:8080/",
          "height": 472
        },
        "id": "B-poqNmt8wKC",
        "outputId": "ff85cbd9-3620-44f7-f69b-92382f8f4856"
      },
      "execution_count": 26,
      "outputs": [
        {
          "output_type": "display_data",
          "data": {
            "text/plain": [
              "<Figure size 640x480 with 1 Axes>"
            ],
            "image/png": "[encoded data removed]"
          },
          "metadata": {}
        }
      ]
    },
    {
      "cell_type": "markdown",
      "source": [
        "Load best model weights"
      ],
      "metadata": {
        "id": "6HeRBcoj87e5"
      }
    },
    {
      "cell_type": "code",
      "source": [
        "#ensemble_model.load_weights('best_ensemble_model.keras')"
      ],
      "metadata": {
        "id": "dV58zg2v893I"
      },
      "execution_count": 27,
      "outputs": []
    },
    {
      "cell_type": "markdown",
      "source": [
        "Print model weights"
      ],
      "metadata": {
        "id": "5cxh1ZDK_pmP"
      }
    },
    {
      "cell_type": "code",
      "source": [
        "'''\n",
        "# Load your pre-trained model (replace 'model.h5' with your model's filename)\n",
        "best_model = tf.keras.models.load_model('best_ensemble_model.keras')\n",
        "# Define the path where you want to save the model\n",
        "model_save_path = '/content/drive/My Drive/Colab Notebooks/Skin Cancer Classification/'\n",
        "\n",
        "# Save the best model to Google Drive\n",
        "best_model.save(model_save_path + 'best_avg_ensemble_model.keras')\n",
        "# Get the list of all layers in the model\n",
        "all_layers = best_model.layers\n",
        "\n",
        "# Loop through the layers and print their weights if they have any\n",
        "for layer in all_layers:\n",
        "    if layer.weights:\n",
        "        print(f\"Layer: {layer.name}\")\n",
        "        for weight in layer.weights:\n",
        "            print(f\"  {weight.name}:\")\n",
        "            print(weight.numpy())\n",
        "            '''"
      ],
      "metadata": {
        "colab": {
          "base_uri": "https://localhost:8080/",
          "height": 122
        },
        "id": "ajQiLCVc_pC3",
        "outputId": "ab70fa10-c791-4b9b-f249-8ab1fb2b61f6"
      },
      "execution_count": 28,
      "outputs": [
        {
          "output_type": "execute_result",
          "data": {
            "text/plain": [
              "'\\n# Load your pre-trained model (replace \\'model.h5\\' with your model\\'s filename)\\nbest_model = tf.keras.models.load_model(\\'best_ensemble_model.keras\\')\\n# Define the path where you want to save the model\\nmodel_save_path = \\'/content/drive/My Drive/Colab Notebooks/Skin Cancer Classification/\\'\\n\\n# Save the best model to Google Drive\\nbest_model.save(model_save_path + \\'best_avg_ensemble_model.keras\\')\\n# Get the list of all layers in the model\\nall_layers = best_model.layers\\n\\n# Loop through the layers and print their weights if they have any\\nfor layer in all_layers:\\n    if layer.weights:\\n        print(f\"Layer: {layer.name}\")\\n        for weight in layer.weights:\\n            print(f\"  {weight.name}:\")\\n            print(weight.numpy())\\n            '"
            ],
            "application/vnd.google.colaboratory.intrinsic+json": {
              "type": "string"
            }
          },
          "metadata": {},
          "execution_count": 28
        }
      ]
    },
    {
      "cell_type": "markdown",
      "source": [
        "# Model Testing"
      ],
      "metadata": {
        "id": "RjTCI_nnDXrV"
      }
    },
    {
      "cell_type": "code",
      "source": [
        "#loss, acc = model.evaluate(X_test, Y_test, verbose=2)"
      ],
      "metadata": {
        "id": "RbldVK9nDaxb"
      },
      "execution_count": 29,
      "outputs": []
    },
    {
      "cell_type": "code",
      "source": [
        "import sklearn.metrics as metrics\n",
        "\n",
        "y_pred_ohe = ensemble_model.predict(X_test)\n",
        "#y_pred_labels = np.argmax(y_pred_ohe, axis=1)"
      ],
      "metadata": {
        "colab": {
          "base_uri": "https://localhost:8080/"
        },
        "id": "abpzQKNcDs5D",
        "outputId": "66fc2ae6-36e0-4749-cf82-44cff1d6e8cc"
      },
      "execution_count": 30,
      "outputs": [
        {
          "output_type": "stream",
          "name": "stdout",
          "text": [
            "101/101 [==============================] - 13s 80ms/step\n"
          ]
        }
      ]
    },
    {
      "cell_type": "code",
      "source": [
        "threshold = 0.7\n",
        "y_pred_labels = (y_pred_ohe >= threshold).astype(int)"
      ],
      "metadata": {
        "id": "qDjMGp9O_KfD"
      },
      "execution_count": 31,
      "outputs": []
    },
    {
      "cell_type": "code",
      "source": [
        "print(y_pred_labels)"
      ],
      "metadata": {
        "colab": {
          "base_uri": "https://localhost:8080/"
        },
        "id": "rA0I49CO_mhI",
        "outputId": "ce429e14-0f8e-402a-9108-27ada070fc5f"
      },
      "execution_count": 32,
      "outputs": [
        {
          "output_type": "stream",
          "name": "stdout",
          "text": [
            "[[0]\n",
            " [0]\n",
            " [0]\n",
            " ...\n",
            " [0]\n",
            " [1]\n",
            " [0]]\n"
          ]
        }
      ]
    },
    {
      "cell_type": "code",
      "source": [
        "confusion_matrix = metrics.confusion_matrix(y_true=Y_test, y_pred=y_pred_labels)\n",
        "print(confusion_matrix)"
      ],
      "metadata": {
        "colab": {
          "base_uri": "https://localhost:8080/"
        },
        "id": "8mXzcJgQLc9d",
        "outputId": "1d96a98f-77b0-456d-c685-71dbcfd4170b"
      },
      "execution_count": 33,
      "outputs": [
        {
          "output_type": "stream",
          "name": "stdout",
          "text": [
            "[[1527   88]\n",
            " [  30 1580]]\n"
          ]
        }
      ]
    },
    {
      "cell_type": "code",
      "source": [
        "from sklearn.metrics import classification_report\n",
        "class_labels = ['benign', 'malignant']\n",
        "report = classification_report(Y_test, y_pred_labels, target_names = class_labels)\n",
        "print(report)"
      ],
      "metadata": {
        "colab": {
          "base_uri": "https://localhost:8080/"
        },
        "id": "tsYXqqv5LrAI",
        "outputId": "71bd283c-a514-408b-fd9c-7b23bc684485"
      },
      "execution_count": 34,
      "outputs": [
        {
          "output_type": "stream",
          "name": "stdout",
          "text": [
            "              precision    recall  f1-score   support\n",
            "\n",
            "      benign       0.98      0.95      0.96      1615\n",
            "   malignant       0.95      0.98      0.96      1610\n",
            "\n",
            "    accuracy                           0.96      3225\n",
            "   macro avg       0.96      0.96      0.96      3225\n",
            "weighted avg       0.96      0.96      0.96      3225\n",
            "\n"
          ]
        }
      ]
    },
    {
      "cell_type": "code",
      "source": [
        "import seaborn as sns\n",
        "\n",
        "cm = confusion_matrix\n",
        "plt.figure(figsize=(8,8))\n",
        "sns.heatmap(cm, fmt='.0f', cmap=\"crest\", annot=True, linewidths=0.2)\n",
        "plt.title('Confusion matrix')\n",
        "plt.xlabel('Predicted value')\n",
        "plt.ylabel('Truth value')\n",
        "plt.show()\n",
        "#print(confusion_matrix(Y_test, y_pred_labels))"
      ],
      "metadata": {
        "colab": {
          "base_uri": "https://localhost:8080/",
          "height": 718
        },
        "id": "XY0lXAKQMYmb",
        "outputId": "55fcb4ec-036a-4caa-fef0-e5991674b0a8"
      },
      "execution_count": 35,
      "outputs": [
        {
          "output_type": "display_data",
          "data": {
            "text/plain": [
              "<Figure size 800x800 with 2 Axes>"
            ],
            "image/png": "[encoded data removed]"
          },
          "metadata": {}
        }
      ]
    },
    {
      "cell_type": "code",
      "source": [
        "import matplotlib.pyplot as plt\n",
        "from sklearn.metrics import confusion_matrix, accuracy_score, precision_score, recall_score, f1_score, roc_curve, auc\n",
        "\n",
        "\n",
        "# Calculate accuracy, precision, recall, and F1-score\n",
        "accuracy = accuracy_score(Y_test, y_pred_labels)\n",
        "precision = precision_score(Y_test, y_pred_labels)\n",
        "recall = recall_score(Y_test, y_pred_labels)\n",
        "f1 = f1_score(Y_test, y_pred_labels)\n",
        "\n",
        "print(f\"Accuracy: {accuracy:.2f}\")\n",
        "print(f\"Precision: {precision:.2f}\")\n",
        "print(f\"Recall: {recall:.2f}\")\n",
        "print(f\"F1-score: {f1:.2f}\")"
      ],
      "metadata": {
        "colab": {
          "base_uri": "https://localhost:8080/"
        },
        "id": "Pz7hRs_vPh9-",
        "outputId": "aa532db9-3d6c-4247-8204-09f8fa30a003"
      },
      "execution_count": 36,
      "outputs": [
        {
          "output_type": "stream",
          "name": "stdout",
          "text": [
            "Accuracy: 0.96\n",
            "Precision: 0.95\n",
            "Recall: 0.98\n",
            "F1-score: 0.96\n"
          ]
        }
      ]
    },
    {
      "cell_type": "code",
      "source": [
        "# Plot ROC curve\n",
        "fpr, tpr, _ = roc_curve(Y_test, y_pred_labels)\n",
        "roc_auc = auc(fpr, tpr)\n",
        "\n",
        "plt.figure(figsize=(10, 6))\n",
        "plt.plot(fpr, tpr, color='darkorange', lw=2, label='ROC curve (area = {:.2f})'.format(roc_auc))\n",
        "plt.plot([0, 1], [0, 1], color='navy', lw=2, linestyle='--')\n",
        "plt.xlim([0.0, 1.0])\n",
        "plt.ylim([0.0, 1.05])\n",
        "plt.xlabel('False Positive Rate')\n",
        "plt.ylabel('True Positive Rate')\n",
        "plt.title('Receiver Operating Characteristic (ROC) Curve')\n",
        "plt.legend(loc='lower right')\n",
        "plt.show()"
      ],
      "metadata": {
        "colab": {
          "base_uri": "https://localhost:8080/",
          "height": 564
        },
        "id": "ky2BbcQOQrP8",
        "outputId": "a290aae4-db48-45a1-f423-14a4122961c8"
      },
      "execution_count": 37,
      "outputs": [
        {
          "output_type": "display_data",
          "data": {
            "text/plain": [
              "<Figure size 1000x600 with 1 Axes>"
            ],
            "image/png": "[encoded data removed]"
          },
          "metadata": {}
        }
      ]
    },
    {
      "cell_type": "code",
      "source": [],
      "metadata": {
        "id": "oYhudJbEgWYD"
      },
      "execution_count": 37,
      "outputs": []
    }
  ]
}